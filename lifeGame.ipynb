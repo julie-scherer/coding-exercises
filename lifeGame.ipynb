{
 "cells": [
  {
   "cell_type": "markdown",
   "metadata": {},
   "source": [
    "## Instructions\n",
    "\n",
    "According to Wikipedia's article: \"The Game of Life, also known simply as Life, is a cellular automaton devised by the British mathematician John Horton Conway in 1970.\"\n",
    "\n",
    "The board is made up of an m x n grid of cells, where each cell has an initial state: \n",
    "live (represented by a 1) or dead (represented by a 0). \n",
    "\n",
    "Each cell interacts with its eight neighbors (horizontal, vertical, diagonal) using the following four rules (taken from the above Wikipedia article):\n",
    "1. Any live cell with fewer than two live neighbors dies as if caused by under-population.\n",
    "2. Any live cell with two or three live neighbors lives on to the next generation.\n",
    "3. Any live cell with more than three live neighbors dies, as if by over-population.\n",
    "4. Any dead cell with exactly three live neighbors becomes a live cell, as if by reproduction.\n",
    "\n",
    "The next state is created by applying the above rules simultaneously to every cell in the current state, where births and deaths occur simultaneously. Given the current state of the m x n grid board, return the next state.\n",
    "\n",
    "Example 1:\n",
    "\n",
    "Input: board = [\n",
    "    [0,1,0],\n",
    "    [0,0,1],\n",
    "    [1,1,1],\n",
    "    [0,0,0]\n",
    "]\n",
    "\n",
    "Output: [\n",
    "    [0,0,0],\n",
    "    [1,0,1],\n",
    "    [0,1,1],\n",
    "    [0,1,0]\n",
    "]\n",
    "\n",
    "Example 2:\n",
    "\n",
    "Input: board = [[1,1],[1,0]]\n",
    "\n",
    "Output: [[1,1],[1,1]]\n",
    "\n",
    "Constraints:\n",
    "- m == board.length\n",
    "- n == board[i].length\n",
    "- 1 <= m, n <= 25\n",
    "- board[i][j] is 0 or 1."
   ]
  },
  {
   "cell_type": "markdown",
   "metadata": {},
   "source": [
    "### final solution"
   ]
  },
  {
   "cell_type": "code",
   "execution_count": 6,
   "metadata": {},
   "outputs": [
    {
     "data": {
      "text/plain": [
       "[[0, 0, 0], [1, 0, 1], [0, 1, 1], [0, 1, 0]]"
      ]
     },
     "execution_count": 6,
     "metadata": {},
     "output_type": "execute_result"
    }
   ],
   "source": [
    "def checkNeighbor(coord, m,n, board):\n",
    "    count = 0\n",
    "    options = [(-1,-1), (0,-1),(1,-1),(1,0),(1,1),(0,1),(-1,1),(-1,0)]\n",
    "    for option in options:\n",
    "        newX = coord[0]+option[0]\n",
    "        newY = coord[1]+option[1]\n",
    "        if newX >= 0 and newY>=0 and newX<n and newY<m: #check if in bound\n",
    "            if abs(board[newY][newX]) == 1:\n",
    "                count += 1\n",
    "    return count\n",
    "\n",
    "\n",
    "def lifeGame(board):\n",
    "    m = len(board)\n",
    "    n = len(board[0])\n",
    "    for y in range(m):\n",
    "        for x in range(n):\n",
    "            count = checkNeighbor((x,y), m, n, board)\n",
    "\n",
    "            if board[y][x] == 1:\n",
    "                if count <2 or count > 3:\n",
    "                    board[y][x]=-1\n",
    "            else:\n",
    "                if count == 3:\n",
    "                    board[y][x]=2\n",
    "    for y in range(m):\n",
    "        for x in range(n):\n",
    "            board[y][x]\n",
    "            if board[y][x]==-1:\n",
    "                board[y][x] = 0\n",
    "            elif board[y][x] == 2:\n",
    "                board[y][x] = 1\n",
    "\n",
    "    return board\n",
    "\n",
    "\n",
    "board = [[0,1,0],[0,0,1],[1,1,1],[0,0,0]]\n",
    "lifeGame(board)"
   ]
  },
  {
   "cell_type": "markdown",
   "metadata": {},
   "source": [
    "------"
   ]
  },
  {
   "cell_type": "markdown",
   "metadata": {},
   "source": [
    "### second attempt"
   ]
  },
  {
   "cell_type": "code",
   "execution_count": 7,
   "metadata": {},
   "outputs": [],
   "source": [
    "def checkNeighbor(board, coord, rows, cols, count=0):\n",
    "    options = [\n",
    "        ( 0, 1),\n",
    "        ( 0,-1),\n",
    "        ( 1, 0),\n",
    "        ( 1, 1),\n",
    "        ( 1,-1),\n",
    "        (-1, 0),\n",
    "        (-1, 1),\n",
    "        (-1,-1),\n",
    "        ]\n",
    "    for option in options:\n",
    "        x = coord[0]+option[0]\n",
    "        y = coord[1]+option[1]\n",
    "        if (x >= 0 and x < rows) and (y >= 0 and y < cols): #check if in bound\n",
    "            count += board[x][y]\n",
    "    return count\n",
    "\n",
    "def lifeGame(board: list[list[int]]) -> list[list[int]]:\n",
    "    copy = board\n",
    "    rows = len(board)\n",
    "    cols = len(board[0])\n",
    "\n",
    "    for row in range(rows):\n",
    "        for col in range(cols):\n",
    "            count = checkNeighbor( board, (row,col), rows, cols )\n",
    "            if board[row][col]: #1\n",
    "                if count < 2 or count > 3:\n",
    "                    copy[row][col] = 0\n",
    "                    continue\n",
    "            if count == 3:\n",
    "                copy[row][col] = 1\n",
    "    \n",
    "    return copy"
   ]
  },
  {
   "cell_type": "code",
   "execution_count": 8,
   "metadata": {},
   "outputs": [
    {
     "data": {
      "text/plain": [
       "[[0, 0, 0], [0, 0, 1], [0, 1, 1], [0, 0, 0]]"
      ]
     },
     "execution_count": 8,
     "metadata": {},
     "output_type": "execute_result"
    }
   ],
   "source": [
    "board = [[0,1,0],[0,0,1],[1,1,1],[0,0,0]]\n",
    "lifeGame(board)"
   ]
  },
  {
   "cell_type": "markdown",
   "metadata": {},
   "source": [
    "------"
   ]
  },
  {
   "cell_type": "markdown",
   "metadata": {},
   "source": [
    "### first attempt"
   ]
  },
  {
   "cell_type": "code",
   "execution_count": 9,
   "metadata": {},
   "outputs": [],
   "source": [
    "def lifeGame(board: list[list[int]]) -> list[list[int]]:\n",
    "    copy = board\n",
    "    rows = len(board)\n",
    "    cols = len(board[0])\n",
    "\n",
    "    for row in range(rows):\n",
    "        \n",
    "        for col in range(cols):\n",
    "            \n",
    "            total,alive = 0,0\n",
    "            \n",
    "            # up\n",
    "            if row-1 >= 0 and row-1 < rows:\n",
    "                total += 1\n",
    "                alive += board[row-1][col]\n",
    "                # if board[row-1][col]: print(f'up = {board[row-1][col]}')\n",
    "            # down\n",
    "            if row+1 >= 0 and row+1 < rows:\n",
    "                total += 1\n",
    "                alive += board[row+1][col]\n",
    "                # if board[row+1][col]: print(f'down = {board[row+1][col]}')\n",
    "            # left\n",
    "            if col-1 >= 0 and col-1 < cols:\n",
    "                total += 1\n",
    "                alive += board[row][col-1]\n",
    "                # if board[row][col-1]: print(f'left = {board[row][col-1]}')\n",
    "            # right\n",
    "            if col+1 >= 0 and col+1 < cols:\n",
    "                total += 1\n",
    "                alive += board[row][col+1]\n",
    "                # if board[row][col+1]: print(f'right = {board[row][col+1]}')\n",
    "            \n",
    "            # top left\n",
    "            if (row-1 >= 0 and row-1 < rows) and (col-1 >= 0 and col-1 < cols):\n",
    "                total += 1\n",
    "                alive += board[row-1][col-1]\n",
    "                # if board[row-1][col-1]: print(f'top left = {board[row-1][col-1]}')\n",
    "            # top right\n",
    "            if (row-1 >= 0 and row-1 < rows) and (col+1 >= 0 and col+1 < cols):\n",
    "                total += 1\n",
    "                alive += board[row-1][col+1]\n",
    "                # if board[row-1][col+1]: print(f'top right = {board[row-1][col+1]}')\n",
    "            # bottom left\n",
    "            if (row+1 >= 0 and row+1 < rows) and (col-1 >= 0 and col-1 < cols):\n",
    "                total += 1\n",
    "                alive += board[row+1][col-1]\n",
    "                # if board[row+1][col-1]: print(f'bottom left = {board[row+1][col-1]}')\n",
    "            # bottom right\n",
    "            if (row+1 >= 0 and row+1 < rows) and (col+1 >= 0 and col+1 < cols):\n",
    "                total += 1\n",
    "                alive += board[row+1][col+1]\n",
    "                # if board[row+1][col+1]: print(f'bottom right = {board[row+1][col+1]}')\n",
    "                \n",
    "            \n",
    "            # print(f'*** total = {total}, alive = {alive} ***')\n",
    "            \n",
    "            if board[row][col]:\n",
    "                if alive < 2 or alive > 3:\n",
    "                    copy[row][col] = 0\n",
    "                    continue\n",
    "            else:\n",
    "                if alive == 3:\n",
    "                    copy[row][col] = 1\n",
    "    \n",
    "    return copy"
   ]
  },
  {
   "cell_type": "code",
   "execution_count": 10,
   "metadata": {},
   "outputs": [
    {
     "data": {
      "text/plain": [
       "[[0, 0, 0], [0, 0, 1], [0, 1, 1], [0, 0, 0]]"
      ]
     },
     "execution_count": 10,
     "metadata": {},
     "output_type": "execute_result"
    }
   ],
   "source": [
    "board = [[0,1,0],[0,0,1],[1,1,1],[0,0,0]]\n",
    "lifeGame(board)"
   ]
  }
 ],
 "metadata": {
  "kernelspec": {
   "display_name": "Python 3.10.8 64-bit",
   "language": "python",
   "name": "python3"
  },
  "language_info": {
   "codemirror_mode": {
    "name": "ipython",
    "version": 3
   },
   "file_extension": ".py",
   "mimetype": "text/x-python",
   "name": "python",
   "nbconvert_exporter": "python",
   "pygments_lexer": "ipython3",
   "version": "3.10.8"
  },
  "orig_nbformat": 4,
  "vscode": {
   "interpreter": {
    "hash": "b0fa6594d8f4cbf19f97940f81e996739fb7646882a419484c72d19e05852a7e"
   }
  }
 },
 "nbformat": 4,
 "nbformat_minor": 2
}
