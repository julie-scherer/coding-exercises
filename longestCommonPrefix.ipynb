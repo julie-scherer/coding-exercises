{
 "cells": [
  {
   "attachments": {},
   "cell_type": "markdown",
   "metadata": {},
   "source": [
    "## Problem"
   ]
  },
  {
   "attachments": {},
   "cell_type": "markdown",
   "metadata": {},
   "source": [
    "Write a function to find the longest common prefix string amongst an array of strings. If there is no common prefix, return an empty string."
   ]
  },
  {
   "cell_type": "code",
   "execution_count": 1,
   "metadata": {},
   "outputs": [],
   "source": [
    "# example input and output\n",
    "\n",
    "input = [\"cat\", \"catt\", \"catte\"]\n",
    "# output 'cat'\n",
    "\n",
    "input = [\"dog\", \"bird\"]\n",
    "# output ''\n",
    "\n",
    "input = [\"bird\", \"cat\", \"catt\", \"dog\", \"catte\"]"
   ]
  },
  {
   "attachments": {},
   "cell_type": "markdown",
   "metadata": {},
   "source": [
    "### Solution during the interview (incomplete)"
   ]
  },
  {
   "cell_type": "code",
   "execution_count": 2,
   "metadata": {},
   "outputs": [],
   "source": [
    "# brute force solution\n",
    "\n",
    "# iterate through the array\n",
    "# store all possible prefixes in a set in dict\n",
    "# after looping through array, use set.intersect()"
   ]
  },
  {
   "cell_type": "code",
   "execution_count": 3,
   "metadata": {},
   "outputs": [],
   "source": [
    "def longest_common_prefix(array: list[str]) -> str: # NOTE changed function name\n",
    "    # create 2 pointers\n",
    "    p1 = 0 # pointer 1 starts at beginning, array[p1] #\"cat\" , \"dog\"\n",
    "    p2 = len(array)-1 # pointer 2 starts at the end of the array, array[p2] #\"catte\" , \"bird\"\n",
    "\n",
    "    while p1 < p2:\n",
    "        length = 0\n",
    "        if len(array[p1]) < len(array[p2]):\n",
    "            length = len(array[p1]) # could change to : shortest = array[p1]\n",
    "        else:\n",
    "            length = len(array[p2]) # shortest = array[p2]\n",
    "        # ! OR, could make use of min() function instead if if/then\n",
    "        \n",
    "        common_prefixes = set()\n",
    "        prefix = ''\n",
    "        for i in range(length):\n",
    "            if array[p1][i] != array[p2][i]:\n",
    "                break\n",
    "            else:\n",
    "                prefix += array[p1][i]\n",
    "        if prefix:\n",
    "            common_prefixes.add(prefix)\n",
    "            prefix = ''\n",
    "            p1 += 1\n",
    "            p2 -= 1\n",
    "        \n",
    "        # check if common_prefix is in the other words ...\n"
   ]
  },
  {
   "attachments": {},
   "cell_type": "markdown",
   "metadata": {},
   "source": [
    "### Completed solution"
   ]
  },
  {
   "cell_type": "code",
   "execution_count": 4,
   "metadata": {},
   "outputs": [],
   "source": [
    "def longest_common_prefix(array: list[str]) -> str:\n",
    "    '''\n",
    "    STEP 1: Edge Cases\n",
    "    '''\n",
    "    # if the array is empty, return an empty string\n",
    "    if not array:\n",
    "        return ''\n",
    "    # if there are only 2 elements in the array, compare them\n",
    "    if len(array) == 2:\n",
    "        shortest = min(array, key=len)\n",
    "        # idx = 0\n",
    "        for idx, char in enumerate(shortest):\n",
    "            # idx += 1\n",
    "            if array[0][idx] != array[-1][idx]:\n",
    "                return shortest[:idx]\n",
    "    \n",
    "    '''\n",
    "    STEP 2: Define 2 Pointers\n",
    "    '''\n",
    "    left = 0 # pointer 1 starts at beginning\n",
    "    right = len(array)-1 # pointer 2 starts at the end of the array\n",
    "\n",
    "    '''\n",
    "    STEP 3: Find Longest Common Prefix\n",
    "    '''\n",
    "    while left < right:\n",
    "        # find the shortest string using the min() function and set key argument to len\n",
    "        # because the longest common prefix cannot be longer than the shortest string\n",
    "        shortest = min(array, key=len) # instead of the if/else statement, making use of min() function with len key argument\n",
    "        \n",
    "        # initialize an empty set common_prefixes to store all the common prefixes\n",
    "        common_prefixes = set()\n",
    "        # initialize an empty string prefix to store the current common prefix\n",
    "        prefix = ''\n",
    "\n",
    "        # loop through each character in the shortest string\n",
    "        for i, char in enumerate(shortest):\n",
    "            # if the characters don't match, break out of the loop\n",
    "            if array[left][i] != array[right][i]:\n",
    "                break\n",
    "            # otherwise, add the character to the prefix string\n",
    "            else:\n",
    "                prefix += char\n",
    "        # if prefix is not empty, add it to the common_prefixes set\n",
    "        if prefix:\n",
    "            common_prefixes.add(prefix)\n",
    "            # prefix = ''\n",
    "        \n",
    "        # check if common_prefix is in the other strings\n",
    "\n",
    "        # loop from left+1 to right to check if the current common prefix exists in all the other strings in the array\n",
    "        # note: we start the loop at left+1 because we've already compared array[left] with array[right] in the previous loop\n",
    "        #       and we're assuming that array[left] is already a part of the common prefix\n",
    "        for idx in range(left+1, right):\n",
    "            # check if the current word starts with the prefix string\n",
    "            # if all words start with the prefix, add the prefix string to the common_prefixes set\n",
    "            if all(word.startswith(prefix) for word in array[idx:idx+1]):\n",
    "                common_prefixes.add(prefix) # add the prefix string to the common_prefixes set\n",
    "            # otherwise, break out of the loop\n",
    "            else:\n",
    "                break\n",
    "\n",
    "        # if there is only one common prefix, return it\n",
    "        if len(common_prefixes) == 1:\n",
    "            return common_prefixes.pop()\n",
    "\n",
    "        # update pointers to narrow down the search by removing the first or last element\n",
    "        #   depending on the length of the current strings being compared\n",
    "        if len(array[left]) <= len(array[right]):\n",
    "            right -= 1\n",
    "        else:\n",
    "            left += 1\n",
    "    \n",
    "    # if no common prefix is found, return an empty string\n",
    "    return ''"
   ]
  },
  {
   "cell_type": "code",
   "execution_count": 5,
   "metadata": {},
   "outputs": [
    {
     "data": {
      "text/plain": [
       "'cat'"
      ]
     },
     "execution_count": 5,
     "metadata": {},
     "output_type": "execute_result"
    }
   ],
   "source": [
    "input = [\"cat\", \"catt\", \"catte\"]\n",
    "# output 'cat'\n",
    "longest_common_prefix(input)"
   ]
  },
  {
   "cell_type": "code",
   "execution_count": 6,
   "metadata": {},
   "outputs": [
    {
     "data": {
      "text/plain": [
       "''"
      ]
     },
     "execution_count": 6,
     "metadata": {},
     "output_type": "execute_result"
    }
   ],
   "source": [
    "input = [\"dog\", \"bird\"]\n",
    "# output ''\n",
    "longest_common_prefix(input)"
   ]
  },
  {
   "cell_type": "code",
   "execution_count": 7,
   "metadata": {},
   "outputs": [
    {
     "data": {
      "text/plain": [
       "''"
      ]
     },
     "execution_count": 7,
     "metadata": {},
     "output_type": "execute_result"
    }
   ],
   "source": [
    "input = [\"bird\", \"cat\", \"catt\", \"dog\", \"catte\"]\n",
    "longest_common_prefix(input)"
   ]
  },
  {
   "cell_type": "code",
   "execution_count": 8,
   "metadata": {},
   "outputs": [
    {
     "data": {
      "text/plain": [
       "'c'"
      ]
     },
     "execution_count": 8,
     "metadata": {},
     "output_type": "execute_result"
    }
   ],
   "source": [
    "input = [\"cattle\", \"car\", \"christmas\" ,\"cabal\" ,\"cabby\" ,\"caber\" ,\"cabin\" ,\"cable\" ,\"cabob\" ,\"cacao\"]\n",
    "# output = 'c'\n",
    "longest_common_prefix(input)"
   ]
  },
  {
   "attachments": {},
   "cell_type": "markdown",
   "metadata": {},
   "source": [
    "### Second solution (post-interview)\n",
    "\n",
    "Below I provide another, more straight-forward solution to this problem.\n",
    "\n",
    "Time and space complexity:\n",
    "- Technically, both solutions have a time complexity of O(N*M), where N is the length of the array and M is the length of the shortest string in the array, as both solutions need to iterate through all characters in the shortest string and compare them to the corresponding characters in the other strings in the array. However, solution 1 uses the two pointers technique to narrow down the range of strings being compared in each iteration, which reduces the number of comparisons that need to be made. In contrast, solution 2 loops through all the characters in each string and compares them one-by-one, which can be less efficient when the strings are very long. Therefore, solution 1 is likely to be slightly faster than solution 2.\n",
    "- In terms of space complexity, solution 2 is better since it does not use any additional data structures, whereas solution 1 creates a set to store common prefixes. \n",
    "\n",
    "    **While solution 1 is likely to be faster than solution 2 in most cases, solution 2 might be preferred if space is a concern and for its readability.**"
   ]
  },
  {
   "cell_type": "code",
   "execution_count": 9,
   "metadata": {},
   "outputs": [],
   "source": [
    "def longest_common_prefix(array: list[str]) -> str:\n",
    "    if not array:\n",
    "        return ''\n",
    "    \n",
    "    shortest = min(array, key=len)\n",
    "    \n",
    "    if len(array) == 2:\n",
    "        for idx in range(len(shortest)):\n",
    "            if array[0][idx] != array[-1][idx]:\n",
    "                return shortest[:idx]\n",
    "\n",
    "    for i, char in enumerate(shortest):\n",
    "        for word in array:\n",
    "            if word[i] != char:\n",
    "                return shortest[:i]\n",
    "    \n",
    "    return shortest"
   ]
  },
  {
   "cell_type": "code",
   "execution_count": 10,
   "metadata": {},
   "outputs": [
    {
     "data": {
      "text/plain": [
       "'cat'"
      ]
     },
     "execution_count": 10,
     "metadata": {},
     "output_type": "execute_result"
    }
   ],
   "source": [
    "input = [\"cat\", \"catt\", \"catte\"]\n",
    "# output 'cat'\n",
    "longest_common_prefix(input)"
   ]
  },
  {
   "cell_type": "code",
   "execution_count": 11,
   "metadata": {},
   "outputs": [
    {
     "data": {
      "text/plain": [
       "''"
      ]
     },
     "execution_count": 11,
     "metadata": {},
     "output_type": "execute_result"
    }
   ],
   "source": [
    "input = [\"dog\", \"bird\"]\n",
    "# output ''\n",
    "longest_common_prefix(input)"
   ]
  },
  {
   "cell_type": "code",
   "execution_count": 12,
   "metadata": {},
   "outputs": [
    {
     "data": {
      "text/plain": [
       "''"
      ]
     },
     "execution_count": 12,
     "metadata": {},
     "output_type": "execute_result"
    }
   ],
   "source": [
    "input = [\"bird\", \"cat\", \"catt\", \"dog\", \"catte\"]\n",
    "longest_common_prefix(input)"
   ]
  },
  {
   "cell_type": "code",
   "execution_count": 13,
   "metadata": {},
   "outputs": [
    {
     "data": {
      "text/plain": [
       "'c'"
      ]
     },
     "execution_count": 13,
     "metadata": {},
     "output_type": "execute_result"
    }
   ],
   "source": [
    "input = [\"cattle\", \"car\", \"christmas\" ,\"cabal\" ,\"cabby\" ,\"caber\" ,\"cabin\" ,\"cable\" ,\"cabob\" ,\"cacao\"]\n",
    "# output = 'c'\n",
    "longest_common_prefix(input)"
   ]
  },
  {
   "attachments": {},
   "cell_type": "markdown",
   "metadata": {},
   "source": [
    "### Third solution (post-interview)\n",
    "\n",
    "As I adding notes about the time and space complexity for the two solutions above, I realized the solution could be further improved by using a binary search approach to narrow down the range of strings being compared. \n",
    "\n",
    "Time and space complexity:\n",
    "- The implementation below has a time complexity of O(N*log M), where N is the length of the array and M is the length of the shortest string, because we perform binary search on the length of the longest common prefix, which can be at most the length of the shortest string. Since we are cutting the range in half with each iteration, the time complexity is logarithmic. \n",
    "- The space complexity is O(1), as we are only using a constant amount of extra space to store variables."
   ]
  },
  {
   "cell_type": "code",
   "execution_count": 1,
   "metadata": {},
   "outputs": [],
   "source": [
    "def longest_common_prefix(array: list[str]) -> str:\n",
    "    if not array:\n",
    "        return \"\"\n",
    "\n",
    "    shortest = min(array, key=len)\n",
    "    left = 0\n",
    "    right = len(shortest)\n",
    "\n",
    "    while left <= right:\n",
    "        mid = (left + right) // 2\n",
    "        prefix = shortest[:mid]\n",
    "\n",
    "        if all(word.startswith(prefix) for word in array):\n",
    "            left = mid + 1\n",
    "        else:\n",
    "            right = mid - 1\n",
    "\n",
    "    return shortest[:left-1]"
   ]
  },
  {
   "cell_type": "code",
   "execution_count": 2,
   "metadata": {},
   "outputs": [
    {
     "data": {
      "text/plain": [
       "'cat'"
      ]
     },
     "execution_count": 2,
     "metadata": {},
     "output_type": "execute_result"
    }
   ],
   "source": [
    "input = [\"cat\", \"catt\", \"catte\"]\n",
    "# output 'cat'\n",
    "longest_common_prefix(input)"
   ]
  },
  {
   "cell_type": "code",
   "execution_count": 3,
   "metadata": {},
   "outputs": [
    {
     "data": {
      "text/plain": [
       "''"
      ]
     },
     "execution_count": 3,
     "metadata": {},
     "output_type": "execute_result"
    }
   ],
   "source": [
    "input = [\"dog\", \"bird\"]\n",
    "# output ''\n",
    "longest_common_prefix(input)"
   ]
  },
  {
   "cell_type": "code",
   "execution_count": 4,
   "metadata": {},
   "outputs": [
    {
     "data": {
      "text/plain": [
       "''"
      ]
     },
     "execution_count": 4,
     "metadata": {},
     "output_type": "execute_result"
    }
   ],
   "source": [
    "input = [\"bird\", \"cat\", \"catt\", \"dog\", \"catte\"]\n",
    "longest_common_prefix(input)"
   ]
  },
  {
   "cell_type": "code",
   "execution_count": 5,
   "metadata": {},
   "outputs": [
    {
     "data": {
      "text/plain": [
       "'c'"
      ]
     },
     "execution_count": 5,
     "metadata": {},
     "output_type": "execute_result"
    }
   ],
   "source": [
    "input = [\"cattle\", \"car\", \"christmas\" ,\"cabal\" ,\"cabby\" ,\"caber\" ,\"cabin\" ,\"cable\" ,\"cabob\" ,\"cacao\"]\n",
    "# output = 'c'\n",
    "longest_common_prefix(input)"
   ]
  }
 ],
 "metadata": {
  "kernelspec": {
   "display_name": "Python 3",
   "language": "python",
   "name": "python3"
  },
  "language_info": {
   "codemirror_mode": {
    "name": "ipython",
    "version": 3
   },
   "file_extension": ".py",
   "mimetype": "text/x-python",
   "name": "python",
   "nbconvert_exporter": "python",
   "pygments_lexer": "ipython3",
   "version": "3.9.12"
  },
  "orig_nbformat": 4
 },
 "nbformat": 4,
 "nbformat_minor": 2
}
