{
 "cells": [
  {
   "attachments": {},
   "cell_type": "markdown",
   "metadata": {},
   "source": [
    "### Smallest Non-Constructible Change\n",
    "\n",
    "Given an array of positive integers representing the values of coins in your possession, write a function that returns the minimum amount of change (the minimum sum of money) that you cannot create. The given coins can have any positive integer value and aren't necessarily unique (i.e., you can have multiple coins of the same value).\n",
    "\n",
    "For example, if you're given coins = [1, 2, 5], the minimum amount of\n",
    "change that you can't create is 4 . If you're given no coins, the minimum amount of change that you can't create is 1 ."
   ]
  },
  {
   "cell_type": "code",
   "execution_count": 1,
   "metadata": {},
   "outputs": [],
   "source": [
    "def smallest_non_constructible_change(coins):\n",
    "\n",
    "    # If the input list of coins is empty, the minimum amount of change that cannot be created is 1\n",
    "    if not coins:\n",
    "        return 1\n",
    "\n",
    "    # Helper function to recursively find all possible sums of the given coins\n",
    "    def _sum_combinations(coins, start, current_sum, current_coins, sums):\n",
    "\n",
    "        # If the current sum is greater than 0, add it to the set of all sums\n",
    "        if current_sum > 0:\n",
    "            sums.add(current_sum)\n",
    "\n",
    "        # Initialize the smallest non-sum to 1 and increment it until it is not found in the set of all sums\n",
    "        smallest_non_sum = 1\n",
    "        while smallest_non_sum in sums:\n",
    "            smallest_non_sum += 1\n",
    "\n",
    "        # Recursively call the helper function to add each possible combination of coins to the set of all sums\n",
    "        for i in range(start, len(coins)):\n",
    "            smallest_non_sum = _sum_combinations(coins, i+1, current_sum+coins[i], current_coins+[coins[i]], sums)\n",
    "\n",
    "        # Return the smallest non-sum found in the current recursive call\n",
    "        return smallest_non_sum\n",
    "    \n",
    "    # Set to hold all possible sums of the given coins\n",
    "    sums = set()\n",
    "    \n",
    "    # Call the helper function with each coin as a starting point and update the set of all sums\n",
    "    for idx in range(len(coins)):\n",
    "        smallest_non_sum = _sum_combinations(coins, idx, 0, [], sums)\n",
    "    \n",
    "    # Return the smallest non-sum found among all recursive calls\n",
    "    return smallest_non_sum\n"
   ]
  },
  {
   "cell_type": "code",
   "execution_count": 2,
   "metadata": {},
   "outputs": [
    {
     "name": "stdout",
     "output_type": "stream",
     "text": [
      "20\n"
     ]
    }
   ],
   "source": [
    "coins = [5, 7, 1, 1, 2, 3, 22]\n",
    "# smallest_non_sum = 20\n",
    "print(smallest_non_constructible_change(coins))"
   ]
  },
  {
   "cell_type": "code",
   "execution_count": 3,
   "metadata": {},
   "outputs": [
    {
     "name": "stdout",
     "output_type": "stream",
     "text": [
      "6\n"
     ]
    }
   ],
   "source": [
    "coins = [1, 1, 1, 1, 1]\n",
    "# smallest_non_sum = 6\n",
    "print(smallest_non_constructible_change(coins))"
   ]
  },
  {
   "cell_type": "code",
   "execution_count": 4,
   "metadata": {},
   "outputs": [
    {
     "name": "stdout",
     "output_type": "stream",
     "text": [
      "55\n"
     ]
    }
   ],
   "source": [
    "coins = [1, 5, 1, 1, 1, 10, 15, 20, 100]\n",
    "# smallest_non_sum = 55\n",
    "print(smallest_non_constructible_change(coins))"
   ]
  },
  {
   "cell_type": "code",
   "execution_count": 5,
   "metadata": {},
   "outputs": [
    {
     "name": "stdout",
     "output_type": "stream",
     "text": [
      "3\n"
     ]
    }
   ],
   "source": [
    "coins = [6, 4, 5, 1, 1, 8, 9]\n",
    "# smallest_non_sum = 3\n",
    "print(smallest_non_constructible_change(coins))"
   ]
  },
  {
   "cell_type": "code",
   "execution_count": 6,
   "metadata": {},
   "outputs": [
    {
     "name": "stdout",
     "output_type": "stream",
     "text": [
      "1\n"
     ]
    }
   ],
   "source": [
    "coins = []\n",
    "print(smallest_non_constructible_change(coins))"
   ]
  },
  {
   "cell_type": "code",
   "execution_count": 7,
   "metadata": {},
   "outputs": [
    {
     "name": "stdout",
     "output_type": "stream",
     "text": [
      "1\n"
     ]
    }
   ],
   "source": [
    "coins = [87]\n",
    "# smallest_non_sum = 1\n",
    "print(smallest_non_constructible_change(coins))"
   ]
  },
  {
   "cell_type": "code",
   "execution_count": 8,
   "metadata": {},
   "outputs": [
    {
     "name": "stdout",
     "output_type": "stream",
     "text": [
      "32\n"
     ]
    }
   ],
   "source": [
    "coins = [5, 6, 1, 1, 2, 3, 4, 9]\n",
    "# smallest_non_sum = 32\n",
    "print(smallest_non_constructible_change(coins))"
   ]
  },
  {
   "cell_type": "code",
   "execution_count": 9,
   "metadata": {},
   "outputs": [
    {
     "name": "stdout",
     "output_type": "stream",
     "text": [
      "19\n"
     ]
    }
   ],
   "source": [
    "coins = [5, 6, 1, 1, 2, 3, 43]\n",
    "# smallest_non_sum = 19\n",
    "print(smallest_non_constructible_change(coins))"
   ]
  },
  {
   "cell_type": "code",
   "execution_count": 10,
   "metadata": {},
   "outputs": [
    {
     "name": "stdout",
     "output_type": "stream",
     "text": [
      "87\n"
     ]
    }
   ],
   "source": [
    "coins = [109, 2000, 8765, 19, 18, 17, 16, 8, 1, 1, 2, 4]\n",
    "# smallest_non_sum = 87\n",
    "print(smallest_non_constructible_change(coins))"
   ]
  },
  {
   "cell_type": "code",
   "execution_count": 11,
   "metadata": {},
   "outputs": [
    {
     "name": "stdout",
     "output_type": "stream",
     "text": [
      "29\n"
     ]
    }
   ],
   "source": [
    "coins = [1, 2, 3, 4, 5, 6, 7]\n",
    "# smallest_non_sum = 29\n",
    "print(smallest_non_constructible_change(coins))"
   ]
  }
 ],
 "metadata": {
  "kernelspec": {
   "display_name": "Python 3",
   "language": "python",
   "name": "python3"
  },
  "language_info": {
   "codemirror_mode": {
    "name": "ipython",
    "version": 3
   },
   "file_extension": ".py",
   "mimetype": "text/x-python",
   "name": "python",
   "nbconvert_exporter": "python",
   "pygments_lexer": "ipython3",
   "version": "3.10.5"
  },
  "orig_nbformat": 4
 },
 "nbformat": 4,
 "nbformat_minor": 2
}
