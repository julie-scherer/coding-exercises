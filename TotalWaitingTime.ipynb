{
 "cells": [
  {
   "cell_type": "markdown",
   "metadata": {},
   "source": [
    "You're given a non-empty array of positive integers representing the amounts of time that specific queries take to execute. \n",
    "Only one query can be executed at a time, but the queries can be executed in any order.\n",
    "\n",
    "A query's waiting time is defined as the amount of time that it must wait before its execution starts. \n",
    "In other words, if a query is executed second, then its waiting time is the duration of the first query; \n",
    "if a query is executed third, then its waiting time is the sum of the durations of the first two queries.\n",
    "\n",
    "Write a function that returns the minimum amount of total waiting time for all of the queries. \n",
    "For example, if you're given the queries of durations [1, 4, 5] , then the total waiting time if the queries were executed \n",
    "in the order of [5, 1, 4] would be (0) + (5) + (5+1) = 11. The first query of duration 5 would be executed immediately, \n",
    "so its waiting time would be 0 , the second query of duration 1 would have to wait 5 seconds (the duration of the first query)\n",
    "to be executed, and the last query would have to wait the duration of the first two queries before being executed.\n",
    "\n",
    "Note: you're allowed to mutate the input array.\n",
    "\n",
    "Sample1:<br>\n",
    "queries = [3, 2, 1, 2, 6]<br>\n",
    "Output: 17<br>\n",
    "\n",
    "Sample 2:<br>\n",
    "queries = [2, 1, 1, 1]<br>\n",
    "Output: 6<br>\n",
    "\n",
    "Sample 3:<br>\n",
    "queries = [7, 9, 2, 3]<br>\n",
    "Output: 19\n"
   ]
  },
  {
   "cell_type": "code",
   "execution_count": 6,
   "metadata": {},
   "outputs": [],
   "source": [
    "def TotalWaitingTime(queries):\n",
    "    sort_arr = sorted(queries) # O(n)\n",
    "    waiting_time = 0\n",
    "    total = 0\n",
    "    for i in range(len(sort_arr)-1): # O(n)\n",
    "        waiting_time += sort_arr[i]\n",
    "        total += waiting_time\n",
    "    return total"
   ]
  },
  {
   "cell_type": "code",
   "execution_count": 7,
   "metadata": {},
   "outputs": [
    {
     "data": {
      "text/plain": [
       "17"
      ]
     },
     "execution_count": 7,
     "metadata": {},
     "output_type": "execute_result"
    }
   ],
   "source": [
    "# Sample1:\n",
    "queries = [3, 2, 1, 2, 6] # Output: 17\n",
    "TotalWaitingTime(queries)"
   ]
  },
  {
   "cell_type": "code",
   "execution_count": 8,
   "metadata": {},
   "outputs": [
    {
     "data": {
      "text/plain": [
       "6"
      ]
     },
     "execution_count": 8,
     "metadata": {},
     "output_type": "execute_result"
    }
   ],
   "source": [
    "# Sample 2:\n",
    "queries = [2, 1, 1, 1] # Output: 6\n",
    "TotalWaitingTime(queries)"
   ]
  },
  {
   "cell_type": "code",
   "execution_count": 9,
   "metadata": {},
   "outputs": [
    {
     "data": {
      "text/plain": [
       "19"
      ]
     },
     "execution_count": 9,
     "metadata": {},
     "output_type": "execute_result"
    }
   ],
   "source": [
    "# Sample 3:\n",
    "queries = [7, 9, 2, 3] # Output: 19\n",
    "TotalWaitingTime(queries)"
   ]
  }
 ],
 "metadata": {
  "kernelspec": {
   "display_name": "Python 3.10.6 64-bit",
   "language": "python",
   "name": "python3"
  },
  "language_info": {
   "codemirror_mode": {
    "name": "ipython",
    "version": 3
   },
   "file_extension": ".py",
   "mimetype": "text/x-python",
   "name": "python",
   "nbconvert_exporter": "python",
   "pygments_lexer": "ipython3",
   "version": "3.10.6"
  },
  "orig_nbformat": 4,
  "vscode": {
   "interpreter": {
    "hash": "b0fa6594d8f4cbf19f97940f81e996739fb7646882a419484c72d19e05852a7e"
   }
  }
 },
 "nbformat": 4,
 "nbformat_minor": 2
}
