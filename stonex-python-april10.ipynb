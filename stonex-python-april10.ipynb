{
 "cells": [
  {
   "attachments": {},
   "cell_type": "markdown",
   "metadata": {},
   "source": [
    "### Notes during the interview\n",
    "\n",
    "instructions:\n",
    "- list of names\n",
    "- rotate list of names n number of times so last moves to first and everything moves to the right\n",
    "- retrieve element at position p\n",
    "\n",
    "input: \n",
    "- list of names, \n",
    "- n for num of rotations,\n",
    "- position of the element were interested in. starts at 1\n",
    "\n",
    "output: \n",
    "- name at position P"
   ]
  },
  {
   "cell_type": "code",
   "execution_count": 1,
   "metadata": {},
   "outputs": [],
   "source": [
    "names = ['bob','tom','kaya','oskee']\n",
    "rotate = 4\n",
    "position = 1\n",
    "# expected answer: bob"
   ]
  },
  {
   "cell_type": "code",
   "execution_count": 2,
   "metadata": {},
   "outputs": [],
   "source": [
    "# INCORRECT SOLUTION FROM DURING THE INTERVIEW\n",
    "\n",
    "def wrong_solution(names, rotate, position):\n",
    "    if rotate == len(names):\n",
    "        return names[position+1] #! need to SUBTRACT, not add 1\n",
    "    if rotate > len(names):\n",
    "        r = len(names) - rotate  #! need to reverse, or multiple by -1. also, what if rotate twice or more len(names)?\n",
    "    else:\n",
    "        r = rotate\n",
    "    return names[position + r - 1] #! want to ADD or move to the right r times and then mod divide by nrotations, not sub -1\n",
    "\n",
    "# wrong_solution(names, rotate, position)"
   ]
  },
  {
   "cell_type": "code",
   "execution_count": 3,
   "metadata": {},
   "outputs": [
    {
     "name": "stdout",
     "output_type": "stream",
     "text": [
      "bob\n"
     ]
    }
   ],
   "source": [
    "# APPROACH #1: brute force solution\n",
    "# time complexity | O(r)\n",
    "\n",
    "def solution1(names, rotate, position):\n",
    "    # get rotations w/in the bounds of the len(names), r\n",
    "    r = rotate % len(names)\n",
    "    # print(r)\n",
    "\n",
    "    # loop r times\n",
    "    # pop last element and insert at idx 0 each iteration\n",
    "    for i in range(r):\n",
    "        names.insert(0, names.pop())\n",
    "    # print(names)\n",
    "\n",
    "    return names[position - 1]\n",
    "\n",
    "print(solution1(names, rotate, position))"
   ]
  },
  {
   "cell_type": "code",
   "execution_count": 4,
   "metadata": {},
   "outputs": [
    {
     "data": {
      "text/plain": [
       "'bob'"
      ]
     },
     "execution_count": 4,
     "metadata": {},
     "output_type": "execute_result"
    }
   ],
   "source": [
    "# APPROACH #2: try using a mathematical formula instead...\n",
    "# time complexity | O(1)\n",
    "\n",
    "# new_position = (current_position + nrotations) % nrotations\n",
    "# nrotations = rotate - len(names) if ( rotate > len(names) ) else rotate\n",
    "\n",
    "# for example: if we want element at current_position 3 after rotating 6 times...\n",
    "# i.e., nrotations = 6 and current_position = 3\n",
    "# new_position = (current_position + nrotations) % nrotations\n",
    "# new_position = (3 + 6) % 4 = 1\n",
    "\n",
    "def solution2(names, rotate, position):\n",
    "    # if the number of rotations is the same as the len(names), \n",
    "    # then we just want the idx at position+1\n",
    "    if len(names) % rotate == 0:\n",
    "        return names[position-1]\n",
    "\n",
    "    # APPROACH TAKEN DURING THE INTERVIEW:\n",
    "    # if the rotations is greater than length of names,\n",
    "    # we need to subtract len(names) as many times as possible\n",
    "    # so we're rotating less than len(names) times.\n",
    "\n",
    "    # nrotations = rotate\n",
    "    # while nrotations > len(names):\n",
    "    #     nrotations -= len(names) # same as (len(names) - rotate) * -1 \n",
    "    \n",
    "    # however, instead of this ^ , we can just use mod division like so:\n",
    "    nrotations = rotate % len(names)\n",
    "    \n",
    "    return names[(position + nrotations) % nrotations]\n",
    "\n",
    "solution2(names, rotate, position)"
   ]
  },
  {
   "attachments": {},
   "cell_type": "markdown",
   "metadata": {},
   "source": [
    "## New and improved solution (post-interview)\n",
    "-----"
   ]
  },
  {
   "attachments": {},
   "cell_type": "markdown",
   "metadata": {},
   "source": [
    "### Problem\n",
    "instructions:\n",
    "- list of names\n",
    "- rotate list of names n number of times so last moves to first and everything moves to the right\n",
    "- retrieve element at position p\n",
    "\n",
    "variables:\n",
    "- `n = 6`\n",
    "- `p = 3`\n",
    "- `len(names) = 4`\n",
    "\n",
    "### Approach\n",
    "```\n",
    "names = ['bob', 'tom', 'kaya', 'oskee']\n",
    "        i1      i2      i3      i4\n",
    "```\n",
    "\n",
    "~ add number of rotations, n, to current index\n",
    "```\n",
    "names = ['bob', 'tom', 'kaya', 'oskee']\n",
    "        i(1+6)  i(2+6)  i(3+6)  i(4+6)\n",
    "```\n",
    "\n",
    "~ get the remainder, similar to subtracting len(names) as many times as possible so 0 <= index <= len(names)\n",
    "```\n",
    "names = ['bob', 'tom', 'kaya', 'oskee']\n",
    "        i(7%4)  i(8%4)  i(9%4)  i(10%4)\n",
    "        i(3)    i(0)    i(1)    i(2)\n",
    "```\n",
    "\n",
    "~ note: if there is no remainder (idx=0), the idx is a factor of len(names), i.e., idx = len(names)\n",
    "```names = ['bob', 'tom', 'kaya', 'oskee']\n",
    "        i(3)    i(4)    i(1)    i(2)\n",
    "```\n",
    "\n",
    "`new_names = ['kaya', 'oskee', 'bob', 'tom']`\n",
    "\n",
    "`ans = 'bob'`"
   ]
  },
  {
   "cell_type": "code",
   "execution_count": 5,
   "metadata": {},
   "outputs": [],
   "source": [
    "\n",
    "def final_solution(names, nrotations, position):\n",
    "    if position == 0 or position > len(names)+1 or position < len(names)*-1:\n",
    "        raise ValueError(f\"Position value is invalid. Please select a position between {-1*len(names)} and -1, or between 1 and {len(names)}.\")\n",
    "    # formula : new_position = (current_position + nrotations) % len(names)\n",
    "    # this ensures current_position is always within the bounds of names\n",
    "\n",
    "    # we need to solve for current index to get element at that index\n",
    "    # new_position  =  (current_position + nrotations) % len(names)\n",
    "    #  - nrotations ...                  - nrotations\n",
    "    # new_position - nrotations = current_position % len(names)\n",
    "    #   % len(names) ...                           % len(names)\n",
    "    # current_position = (new_position - nrotations) % len(names)\n",
    "    idx = (position - nrotations) % len(names)\n",
    "    ans = names[idx - 1] if position > 0 else names[idx]\n",
    "    return f\"The element at position {position} after rotating the list {nrotations} times is ... {ans} !\""
   ]
  },
  {
   "cell_type": "code",
   "execution_count": 6,
   "metadata": {},
   "outputs": [
    {
     "name": "stdout",
     "output_type": "stream",
     "text": [
      "The element at position 1 after rotating the list 4 times is ... bob !\n"
     ]
    }
   ],
   "source": [
    "names = ['bob','tom','kaya','oskee']\n",
    "r = 4\n",
    "p = 1\n",
    "# expected answer: bob\n",
    "\n",
    "print(final_solution(names, r, p))"
   ]
  },
  {
   "cell_type": "code",
   "execution_count": 7,
   "metadata": {},
   "outputs": [
    {
     "name": "stdout",
     "output_type": "stream",
     "text": [
      "The element at position 3 after rotating the list 6 times is ... bob !\n"
     ]
    }
   ],
   "source": [
    "names = ['bob','tom','kaya','oskee']\n",
    "r = 6\n",
    "p = 3\n",
    "# expected answer: bob\n",
    "\n",
    "print(final_solution(names, r, p))"
   ]
  },
  {
   "cell_type": "code",
   "execution_count": 8,
   "metadata": {},
   "outputs": [
    {
     "name": "stdout",
     "output_type": "stream",
     "text": [
      "The element at position -2 after rotating the list 12 times is ... kaya !\n"
     ]
    }
   ],
   "source": [
    "names = ['bob','tom','kaya','oskee']\n",
    "r = 12\n",
    "p = -2\n",
    "# expected answer: kaya\n",
    "\n",
    "print(final_solution(names, r, p))"
   ]
  },
  {
   "cell_type": "code",
   "execution_count": 9,
   "metadata": {},
   "outputs": [
    {
     "name": "stdout",
     "output_type": "stream",
     "text": [
      "The element at position 8 after rotating the list 20 times is ... oskee !\n"
     ]
    }
   ],
   "source": [
    "names = ['bob','tom','kaya','oskee','monkey','sally','jerome','ms. piggy']\n",
    "r = 20\n",
    "p = 8\n",
    "# print(f\"len(names) = {len(names)}\")\n",
    "\n",
    "print(final_solution(names, r, p))"
   ]
  },
  {
   "cell_type": "code",
   "execution_count": 10,
   "metadata": {},
   "outputs": [
    {
     "name": "stdout",
     "output_type": "stream",
     "text": [
      "The element at position -11 after rotating the list 1000 times is ... tom !\n"
     ]
    }
   ],
   "source": [
    "names = ['bob','tom','kaya','oskee','monkey','sally','jerome','ms. piggy','frank','romero','katie']\n",
    "r = 1000\n",
    "p = -11\n",
    "# print(f\"len(names) = {len(names)}\")\n",
    "\n",
    "print(final_solution(names, r, p))"
   ]
  },
  {
   "cell_type": "code",
   "execution_count": 11,
   "metadata": {},
   "outputs": [
    {
     "ename": "ValueError",
     "evalue": "Position value is invalid. Please select a position between -11 and -1, or between 1 and 11.",
     "output_type": "error",
     "traceback": [
      "\u001b[0;31m---------------------------------------------------------------------------\u001b[0m",
      "\u001b[0;31mValueError\u001b[0m                                Traceback (most recent call last)",
      "Cell \u001b[0;32mIn[11], line 6\u001b[0m\n\u001b[1;32m      3\u001b[0m p \u001b[39m=\u001b[39m \u001b[39m0\u001b[39m\n\u001b[1;32m      4\u001b[0m \u001b[39m# print(f\"len(names) = {len(names)}\\n\")\u001b[39;00m\n\u001b[0;32m----> 6\u001b[0m \u001b[39mprint\u001b[39m(final_solution(names, r, p))\n",
      "Cell \u001b[0;32mIn[5], line 3\u001b[0m, in \u001b[0;36mfinal_solution\u001b[0;34m(names, nrotations, position)\u001b[0m\n\u001b[1;32m      1\u001b[0m \u001b[39mdef\u001b[39;00m \u001b[39mfinal_solution\u001b[39m(names, nrotations, position):\n\u001b[1;32m      2\u001b[0m     \u001b[39mif\u001b[39;00m position \u001b[39m==\u001b[39m \u001b[39m0\u001b[39m \u001b[39mor\u001b[39;00m position \u001b[39m>\u001b[39m \u001b[39mlen\u001b[39m(names)\u001b[39m+\u001b[39m\u001b[39m1\u001b[39m \u001b[39mor\u001b[39;00m position \u001b[39m<\u001b[39m \u001b[39mlen\u001b[39m(names)\u001b[39m*\u001b[39m\u001b[39m-\u001b[39m\u001b[39m1\u001b[39m:\n\u001b[0;32m----> 3\u001b[0m         \u001b[39mraise\u001b[39;00m \u001b[39mValueError\u001b[39;00m(\u001b[39mf\u001b[39m\u001b[39m\"\u001b[39m\u001b[39mPosition value is invalid. Please select a position between \u001b[39m\u001b[39m{\u001b[39;00m\u001b[39m-\u001b[39m\u001b[39m1\u001b[39m\u001b[39m*\u001b[39m\u001b[39mlen\u001b[39m(names)\u001b[39m}\u001b[39;00m\u001b[39m and -1, or between 1 and \u001b[39m\u001b[39m{\u001b[39;00m\u001b[39mlen\u001b[39m(names)\u001b[39m}\u001b[39;00m\u001b[39m.\u001b[39m\u001b[39m\"\u001b[39m)\n\u001b[1;32m      4\u001b[0m     \u001b[39m# formula : new_position = (current_position + nrotations) % len(names)\u001b[39;00m\n\u001b[1;32m      5\u001b[0m     \u001b[39m# this ensures current_position is always within the bounds of names\u001b[39;00m\n\u001b[1;32m      6\u001b[0m \n\u001b[0;32m   (...)\u001b[0m\n\u001b[1;32m     11\u001b[0m     \u001b[39m#   % len(names) ...                           % len(names)\u001b[39;00m\n\u001b[1;32m     12\u001b[0m     \u001b[39m# current_position = (new_position - nrotations) % len(names)\u001b[39;00m\n\u001b[1;32m     13\u001b[0m     idx \u001b[39m=\u001b[39m (position \u001b[39m-\u001b[39m nrotations) \u001b[39m%\u001b[39m \u001b[39mlen\u001b[39m(names)\n",
      "\u001b[0;31mValueError\u001b[0m: Position value is invalid. Please select a position between -11 and -1, or between 1 and 11."
     ]
    }
   ],
   "source": [
    "names = ['bob','tom','kaya','oskee','monkey','sally','jerome','ms. piggy','frank','romero','katie']\n",
    "r = 1000\n",
    "p = 0\n",
    "# print(f\"len(names) = {len(names)}\\n\")\n",
    "\n",
    "print(final_solution(names, r, p))"
   ]
  },
  {
   "cell_type": "code",
   "execution_count": null,
   "metadata": {},
   "outputs": [],
   "source": []
  }
 ],
 "metadata": {
  "kernelspec": {
   "display_name": "Python 3",
   "language": "python",
   "name": "python3"
  },
  "language_info": {
   "codemirror_mode": {
    "name": "ipython",
    "version": 3
   },
   "file_extension": ".py",
   "mimetype": "text/x-python",
   "name": "python",
   "nbconvert_exporter": "python",
   "pygments_lexer": "ipython3",
   "version": "3.10.5"
  },
  "orig_nbformat": 4
 },
 "nbformat": 4,
 "nbformat_minor": 2
}
