{
 "cells": [
  {
   "attachments": {},
   "cell_type": "markdown",
   "metadata": {},
   "source": [
    "## Problem"
   ]
  },
  {
   "attachments": {},
   "cell_type": "markdown",
   "metadata": {},
   "source": [
    "Write a function to find the longest common prefix string amongst an array of strings. If there is no common prefix, return an empty string."
   ]
  },
  {
   "cell_type": "code",
   "execution_count": 1,
   "metadata": {},
   "outputs": [],
   "source": [
    "# example input and output\n",
    "\n",
    "input = [\"cat\", \"catt\", \"catte\"]\n",
    "# output 'cat'\n",
    "\n",
    "input = [\"dog\", \"bird\"]\n",
    "# output ''\n",
    "\n",
    "input = [\"bird\", \"cat\", \"catt\", \"dog\", \"catte\"]"
   ]
  },
  {
   "attachments": {},
   "cell_type": "markdown",
   "metadata": {},
   "source": [
    "### Solution during the interview"
   ]
  },
  {
   "cell_type": "code",
   "execution_count": 2,
   "metadata": {},
   "outputs": [],
   "source": [
    "# brute force solution\n",
    "\n",
    "# iterate through the array\n",
    "# store all possible prefixes in a set in dict\n",
    "# after looping through array, use set.intersect()"
   ]
  },
  {
   "cell_type": "code",
   "execution_count": 3,
   "metadata": {},
   "outputs": [],
   "source": [
    "def longest_common_prefix(array: list[str]) -> str: # NOTE changed function name\n",
    "    # create 2 pointers\n",
    "    p1 = 0 # pointer 1 starts at beginning, array[p1] #\"cat\" , \"dog\"\n",
    "    p2 = len(array)-1 # pointer 2 starts at the end of the array, array[p2] #\"catte\" , \"bird\"\n",
    "\n",
    "    while p1 < p2:\n",
    "        length = 0\n",
    "        if len(array[p1]) < len(array[p2]):\n",
    "            length = len(array[p1]) # could change to : shortest = array[p1]\n",
    "        else:\n",
    "            length = len(array[p2]) # shortest = array[p2]\n",
    "        # ! OR, could make use of min() function instead if if/then\n",
    "        \n",
    "        common_prefixes = set()\n",
    "        prefix = ''\n",
    "        for i in range(length):\n",
    "            if array[p1][i] != array[p2][i]:\n",
    "                break\n",
    "            else:\n",
    "                prefix += array[p1][i]\n",
    "        if prefix:\n",
    "            common_prefixes.add(prefix)\n",
    "            prefix = ''\n",
    "            p1 += 1\n",
    "            p2 -= 1\n",
    "        \n",
    "        # check if common_prefix is in the other words ...\n"
   ]
  },
  {
   "attachments": {},
   "cell_type": "markdown",
   "metadata": {},
   "source": [
    "### Completed solution"
   ]
  },
  {
   "cell_type": "code",
   "execution_count": 4,
   "metadata": {},
   "outputs": [],
   "source": [
    "def longest_common_prefix(array: list[str]) -> str:\n",
    "    '''\n",
    "    STEP 1: Edge Cases\n",
    "    '''\n",
    "    # if the array is empty, return an empty string\n",
    "    if not array:\n",
    "        return ''\n",
    "    # if there are only 2 elements in the array, compare them\n",
    "    if len(array) == 2:\n",
    "        shortest = min(array, key=len)\n",
    "        # idx = 0\n",
    "        for idx, char in enumerate(shortest):\n",
    "            # idx += 1\n",
    "            if array[0][idx] != array[-1][idx]:\n",
    "                return shortest[:idx]\n",
    "    \n",
    "    '''\n",
    "    STEP 2: Define 2 Pointers\n",
    "    '''\n",
    "    left = 0 # pointer 1 starts at beginning\n",
    "    right = len(array)-1 # pointer 2 starts at the end of the array\n",
    "\n",
    "    '''\n",
    "    STEP 3: Find Longest Common Prefix\n",
    "    '''\n",
    "    while left < right:\n",
    "        # find the shortest string using the min() function and set key argument to len\n",
    "        # because the longest common prefix cannot be longer than the shortest string\n",
    "        shortest = min(array, key=len) # instead of the if/else statement, making use of min() function with len key argument\n",
    "        \n",
    "        # initialize an empty set common_prefixes to store all the common prefixes\n",
    "        common_prefixes = set()\n",
    "        # initialize an empty string prefix to store the current common prefix\n",
    "        prefix = ''\n",
    "\n",
    "        # loop through each character in the shortest string\n",
    "        for i, char in enumerate(shortest):\n",
    "            # if the characters don't match, break out of the loop\n",
    "            if array[left][i] != array[right][i]:\n",
    "                break\n",
    "            # otherwise, add the character to the prefix string\n",
    "            else:\n",
    "                prefix += char\n",
    "        # if prefix is not empty, add it to the common_prefixes set\n",
    "        if prefix:\n",
    "            common_prefixes.add(prefix)\n",
    "            prefix = ''\n",
    "        \n",
    "        # check if common_prefix is in the other strings\n",
    "\n",
    "        # iterate through each str in the array from left+1 to right\n",
    "        for idx in range(left+1, right):\n",
    "            # check if the current word starts with the prefix string\n",
    "            # if all words start with the prefix, add the prefix string to the common_prefixes set\n",
    "            if all(word.startswith(prefix) for word in array[idx:idx+1]):\n",
    "                common_prefixes.add(prefix) # add the prefix string to the common_prefixes set\n",
    "            # otherwise, break out of the loop\n",
    "            else:\n",
    "                break\n",
    "\n",
    "        # if there is only one common prefix, return it\n",
    "        if len(common_prefixes) == 1:\n",
    "            return common_prefixes.pop()\n",
    "\n",
    "        # update pointers to narrow down the search by removing the first or last element\n",
    "        #   depending on the length of the current strings being compared\n",
    "        if len(array[left]) <= len(array[right]):\n",
    "            right -= 1\n",
    "        else:\n",
    "            left += 1\n",
    "    \n",
    "    # if no common prefix is found, return an empty string\n",
    "    return ''"
   ]
  },
  {
   "cell_type": "code",
   "execution_count": 5,
   "metadata": {},
   "outputs": [
    {
     "data": {
      "text/plain": [
       "'cat'"
      ]
     },
     "execution_count": 5,
     "metadata": {},
     "output_type": "execute_result"
    }
   ],
   "source": [
    "input = [\"cat\", \"catt\", \"catte\"]\n",
    "# output 'cat'\n",
    "longest_common_prefix(input)"
   ]
  },
  {
   "cell_type": "code",
   "execution_count": 6,
   "metadata": {},
   "outputs": [
    {
     "data": {
      "text/plain": [
       "''"
      ]
     },
     "execution_count": 6,
     "metadata": {},
     "output_type": "execute_result"
    }
   ],
   "source": [
    "input = [\"dog\", \"bird\"]\n",
    "# output ''\n",
    "longest_common_prefix(input)"
   ]
  },
  {
   "cell_type": "code",
   "execution_count": 7,
   "metadata": {},
   "outputs": [
    {
     "data": {
      "text/plain": [
       "''"
      ]
     },
     "execution_count": 7,
     "metadata": {},
     "output_type": "execute_result"
    }
   ],
   "source": [
    "input = [\"bird\", \"cat\", \"catt\", \"dog\", \"catte\"]\n",
    "longest_common_prefix(input)"
   ]
  },
  {
   "cell_type": "code",
   "execution_count": 8,
   "metadata": {},
   "outputs": [
    {
     "data": {
      "text/plain": [
       "'c'"
      ]
     },
     "execution_count": 8,
     "metadata": {},
     "output_type": "execute_result"
    }
   ],
   "source": [
    "input = [\"cattle\", \"car\", \"christmas\" ,\"cabal\" ,\"cabby\" ,\"caber\" ,\"cabin\" ,\"cable\" ,\"cabob\" ,\"cacao\"]\n",
    "# output = 'c'\n",
    "longest_common_prefix(input)"
   ]
  },
  {
   "attachments": {},
   "cell_type": "markdown",
   "metadata": {},
   "source": [
    "### Optimized solution"
   ]
  },
  {
   "cell_type": "code",
   "execution_count": 9,
   "metadata": {},
   "outputs": [],
   "source": [
    "def longest_common_prefix(array: list[str]) -> str:\n",
    "    if not array:\n",
    "        return ''\n",
    "    \n",
    "    shortest = min(array, key=len)\n",
    "    \n",
    "    if len(array) == 2:\n",
    "        for idx in range(len(shortest)):\n",
    "            if array[0][idx] != array[-1][idx]:\n",
    "                return shortest[:idx]\n",
    "\n",
    "    for i, char in enumerate(shortest):\n",
    "        for word in array:\n",
    "            if word[i] != char:\n",
    "                return shortest[:i]\n",
    "    \n",
    "    return shortest"
   ]
  },
  {
   "cell_type": "code",
   "execution_count": 10,
   "metadata": {},
   "outputs": [
    {
     "data": {
      "text/plain": [
       "'cat'"
      ]
     },
     "execution_count": 10,
     "metadata": {},
     "output_type": "execute_result"
    }
   ],
   "source": [
    "input = [\"cat\", \"catt\", \"catte\"]\n",
    "# output 'cat'\n",
    "longest_common_prefix(input)"
   ]
  },
  {
   "cell_type": "code",
   "execution_count": 11,
   "metadata": {},
   "outputs": [
    {
     "data": {
      "text/plain": [
       "''"
      ]
     },
     "execution_count": 11,
     "metadata": {},
     "output_type": "execute_result"
    }
   ],
   "source": [
    "input = [\"dog\", \"bird\"]\n",
    "# output ''\n",
    "longest_common_prefix(input)"
   ]
  },
  {
   "cell_type": "code",
   "execution_count": 12,
   "metadata": {},
   "outputs": [
    {
     "data": {
      "text/plain": [
       "''"
      ]
     },
     "execution_count": 12,
     "metadata": {},
     "output_type": "execute_result"
    }
   ],
   "source": [
    "input = [\"bird\", \"cat\", \"catt\", \"dog\", \"catte\"]\n",
    "longest_common_prefix(input)"
   ]
  },
  {
   "cell_type": "code",
   "execution_count": 13,
   "metadata": {},
   "outputs": [
    {
     "data": {
      "text/plain": [
       "'c'"
      ]
     },
     "execution_count": 13,
     "metadata": {},
     "output_type": "execute_result"
    }
   ],
   "source": [
    "input = [\"cattle\", \"car\", \"christmas\" ,\"cabal\" ,\"cabby\" ,\"caber\" ,\"cabin\" ,\"cable\" ,\"cabob\" ,\"cacao\"]\n",
    "# output = 'c'\n",
    "longest_common_prefix(input)"
   ]
  }
 ],
 "metadata": {
  "kernelspec": {
   "display_name": "Python 3",
   "language": "python",
   "name": "python3"
  },
  "language_info": {
   "codemirror_mode": {
    "name": "ipython",
    "version": 3
   },
   "file_extension": ".py",
   "mimetype": "text/x-python",
   "name": "python",
   "nbconvert_exporter": "python",
   "pygments_lexer": "ipython3",
   "version": "3.9.12"
  },
  "orig_nbformat": 4
 },
 "nbformat": 4,
 "nbformat_minor": 2
}
