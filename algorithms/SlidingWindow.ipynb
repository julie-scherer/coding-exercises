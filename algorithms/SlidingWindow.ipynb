{
 "cells": [
  {
   "cell_type": "markdown",
   "metadata": {},
   "source": [
    "# Average of Each Subarray 'K'"
   ]
  },
  {
   "cell_type": "code",
   "execution_count": 31,
   "metadata": {},
   "outputs": [],
   "source": [
    "# Given an array, find the average of each subarray of ‘K’ contiguous elements in it.\n",
    "\n",
    "class Solution:\n",
    "    def find_subarray_average(self, arr: list, k: int) -> list:\n",
    "        summ = sum(arr[0:k])\n",
    "        averages = [summ/k]\n",
    "        for i in range(len(arr)-k):\n",
    "            summ = summ - arr[i] + arr[k+i]\n",
    "            avg = summ / k\n",
    "            averages.append(avg)\n",
    "        return averages"
   ]
  },
  {
   "cell_type": "code",
   "execution_count": 33,
   "metadata": {},
   "outputs": [
    {
     "data": {
      "text/plain": [
       "[2.2, 2.8, 2.4, 3.6, 2.8]"
      ]
     },
     "execution_count": 33,
     "metadata": {},
     "output_type": "execute_result"
    }
   ],
   "source": [
    "arr, k = [1, 3, 2, 6, -1, 4, 1, 8, 2], 5\n",
    "# Expected output: [2.2, 2.8, 2.4, 3.6, 2.8]\n",
    "\n",
    "output = Solution()\n",
    "output.find_subarray_average(arr, k)"
   ]
  },
  {
   "cell_type": "code",
   "execution_count": null,
   "metadata": {},
   "outputs": [],
   "source": []
  }
 ],
 "metadata": {
  "kernelspec": {
   "display_name": "Python 3.10.6 64-bit",
   "language": "python",
   "name": "python3"
  },
  "language_info": {
   "codemirror_mode": {
    "name": "ipython",
    "version": 3
   },
   "file_extension": ".py",
   "mimetype": "text/x-python",
   "name": "python",
   "nbconvert_exporter": "python",
   "pygments_lexer": "ipython3",
   "version": "3.10.6"
  },
  "orig_nbformat": 4,
  "vscode": {
   "interpreter": {
    "hash": "b0fa6594d8f4cbf19f97940f81e996739fb7646882a419484c72d19e05852a7e"
   }
  }
 },
 "nbformat": 4,
 "nbformat_minor": 2
}
