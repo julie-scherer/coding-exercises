{
 "cells": [
  {
   "cell_type": "markdown",
   "metadata": {},
   "source": [
    "Given an array of integers nums which is sorted in ascending order, and an integer target, write a function to search target in nums. If target exists, then return its index. Otherwise, return -1.\n",
    "\n",
    "Example 1:<br>\n",
    "Input: nums = [-1,0,3,5,9,12], target = 9<br>\n",
    "Output: 4<br>\n",
    "Explanation: 9 exists in nums and its index is 4<br>\n",
    "\n",
    "Example 2:<br>\n",
    "Input: nums = [-1,0,3,5,9,12], target = 2<br>\n",
    "Output: -1<br>\n",
    "Explanation: 2 does not exist in nums so return -1<br>\n",
    "\n",
    "Constraints:<br>\n",
    "1 <= nums.length <= 104<br>\n",
    "-104 < nums[i], target < 104<br>\n",
    "All the integers in nums are unique.<br>\n",
    "nums is sorted in ascending order."
   ]
  },
  {
   "cell_type": "code",
   "execution_count": 1,
   "metadata": {},
   "outputs": [],
   "source": [
    "def find_target(nums,target):\n",
    "    if target not in set(nums):\n",
    "        return -1\n",
    "    \n",
    "    lower = 0\n",
    "    while True:\n",
    "        lenn = len(nums)\n",
    "        mid_index = lenn // 2    \n",
    "        median = nums[mid_index]\n",
    "        \n",
    "        if median < target:\n",
    "            lower += mid_index\n",
    "            upper = lower + mid_index\n",
    "            nums = nums[mid_index:]\n",
    "        \n",
    "        elif target < median:\n",
    "            upper = lower + mid_index - 1\n",
    "            nums = nums[:mid_index]\n",
    "        \n",
    "        else:\n",
    "            return f'match found at index {lower + mid_index}'"
   ]
  },
  {
   "cell_type": "code",
   "execution_count": 2,
   "metadata": {},
   "outputs": [
    {
     "data": {
      "text/plain": [
       "'match found at index 4'"
      ]
     },
     "execution_count": 2,
     "metadata": {},
     "output_type": "execute_result"
    }
   ],
   "source": [
    "nums = [-1,0,3,5,9,12]\n",
    "target = 9\n",
    "\n",
    "find_target(nums,target)"
   ]
  },
  {
   "cell_type": "code",
   "execution_count": 3,
   "metadata": {},
   "outputs": [
    {
     "data": {
      "text/plain": [
       "'match found at index 1'"
      ]
     },
     "execution_count": 3,
     "metadata": {},
     "output_type": "execute_result"
    }
   ],
   "source": [
    "nums = [-1,0,3,5,9,12]\n",
    "target = 0\n",
    "\n",
    "find_target(nums,target)"
   ]
  },
  {
   "cell_type": "code",
   "execution_count": 4,
   "metadata": {},
   "outputs": [
    {
     "data": {
      "text/plain": [
       "'match found at index 5'"
      ]
     },
     "execution_count": 4,
     "metadata": {},
     "output_type": "execute_result"
    }
   ],
   "source": [
    "nums = [-8,-1,0,3,5,7,11,12,15]\n",
    "target = 7\n",
    "\n",
    "find_target(nums,target)"
   ]
  }
 ],
 "metadata": {
  "kernelspec": {
   "display_name": "Python 3.10.6 64-bit",
   "language": "python",
   "name": "python3"
  },
  "language_info": {
   "codemirror_mode": {
    "name": "ipython",
    "version": 3
   },
   "file_extension": ".py",
   "mimetype": "text/x-python",
   "name": "python",
   "nbconvert_exporter": "python",
   "pygments_lexer": "ipython3",
   "version": "3.10.6"
  },
  "orig_nbformat": 4,
  "vscode": {
   "interpreter": {
    "hash": "b0fa6594d8f4cbf19f97940f81e996739fb7646882a419484c72d19e05852a7e"
   }
  }
 },
 "nbformat": 4,
 "nbformat_minor": 2
}
