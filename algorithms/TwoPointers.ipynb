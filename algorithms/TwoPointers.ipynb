{
 "cells": [
  {
   "cell_type": "markdown",
   "metadata": {},
   "source": [
    "# Remove Duplicates from Sorted Array\n",
    "\n",
    "https://leetcode.com/problems/remove-duplicates-from-sorted-array/"
   ]
  },
  {
   "cell_type": "code",
   "execution_count": 71,
   "metadata": {},
   "outputs": [],
   "source": [
    "class Solution:\n",
    "    def removeDuplicates(self, arr: list[int]) -> int:\n",
    "        i, j = 0, 1\n",
    "        cnt = 0\n",
    "        while j < len(arr):\n",
    "            print(f'i = {i}, j = {j}')\n",
    "            print(f'arr[i] = {arr[i]}, arr[j] = {arr[j]}')\n",
    "            if arr[i] != arr[j]:\n",
    "                cnt += 1\n",
    "                i = j\n",
    "            j += 1\n",
    "        return j-1"
   ]
  },
  {
   "cell_type": "code",
   "execution_count": 72,
   "metadata": {},
   "outputs": [],
   "source": [
    "class Solution:\n",
    "    def removeDuplicates(self, arr: list[int]) -> int:\n",
    "        i, j = 0, 1\n",
    "        while j < len(arr):\n",
    "            if arr[i] != arr[j]:\n",
    "                arr[i+1] = arr[j]\n",
    "                i += 1\n",
    "            j += 1\n",
    "        return i+1, arr\n",
    "\n",
    "# Runtime: 94 ms, faster than 91.55% of Python3 online submissions for Remove Duplicates from Sorted Array.\n",
    "# Memory Usage: 15.6 MB, less than 66.23% of Python3 online submissions for Remove Duplicates from Sorted Array."
   ]
  },
  {
   "cell_type": "code",
   "execution_count": 73,
   "metadata": {},
   "outputs": [],
   "source": [
    "output = Solution()"
   ]
  },
  {
   "cell_type": "code",
   "execution_count": 74,
   "metadata": {},
   "outputs": [
    {
     "data": {
      "text/plain": [
       "(5, [0, 1, 2, 3, 4, 2, 2, 3, 3, 4])"
      ]
     },
     "execution_count": 74,
     "metadata": {},
     "output_type": "execute_result"
    }
   ],
   "source": [
    "arr = [1,1,2]\n",
    "arr = [0,0,1,1,1,2,2,3,3,4]\n",
    "output.removeDuplicates(arr)"
   ]
  }
 ],
 "metadata": {
  "kernelspec": {
   "display_name": "Python 3.10.6 64-bit",
   "language": "python",
   "name": "python3"
  },
  "language_info": {
   "codemirror_mode": {
    "name": "ipython",
    "version": 3
   },
   "file_extension": ".py",
   "mimetype": "text/x-python",
   "name": "python",
   "nbconvert_exporter": "python",
   "pygments_lexer": "ipython3",
   "version": "3.10.6"
  },
  "orig_nbformat": 4,
  "vscode": {
   "interpreter": {
    "hash": "b0fa6594d8f4cbf19f97940f81e996739fb7646882a419484c72d19e05852a7e"
   }
  }
 },
 "nbformat": 4,
 "nbformat_minor": 2
}
