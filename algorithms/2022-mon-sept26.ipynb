{
 "cells": [
  {
   "cell_type": "markdown",
   "metadata": {},
   "source": [
    "Given an array of integers nums sorted in non-decreasing order, find the starting and ending position of a given target value.\n",
    "If target is not found in the array, return [-1, -1].\n",
    "\n",
    "Example 1:<br>\n",
    "Input: nums = [5,7,7,8,8,10], target = 8<br>\n",
    "Output: [3,4]<br>\n",
    "\n",
    "Example 2:<br>\n",
    "Input: nums = [5,7,7,8,8,10], target = 6<br>\n",
    "Output: [-1,-1]<br>\n",
    "\n",
    "Example 3:<br>\n",
    "Input: nums = [], target = 0<br>\n",
    "Output: [-1,-1]"
   ]
  },
  {
   "cell_type": "code",
   "execution_count": 52,
   "metadata": {},
   "outputs": [],
   "source": [
    "def FindStartAndEndPositions(nums: list[int], target: int):\n",
    "    if target not in set(nums):     # *O(1)\n",
    "        return [-1,-1]\n",
    "    \n",
    "    # two pointer\n",
    "    i = 0\n",
    "    j = len(nums)-1\n",
    "    out = [None, None]\n",
    "    while i < len(nums) or None in out:     # *O(n) \n",
    "        if nums[i] == target and out[0] == None:\n",
    "            out[0] = i\n",
    "        if nums[j] == target and out[1] == None:\n",
    "            out[1] = j\n",
    "        i += 1\n",
    "        j -= 1\n",
    "    return out"
   ]
  },
  {
   "cell_type": "code",
   "execution_count": 53,
   "metadata": {},
   "outputs": [
    {
     "data": {
      "text/plain": [
       "[3, 4]"
      ]
     },
     "execution_count": 53,
     "metadata": {},
     "output_type": "execute_result"
    }
   ],
   "source": [
    "# Example 1:\n",
    "nums = [5,7,7,8,8,10]\n",
    "target = 8\n",
    "FindStartAndEndPositions(nums, target)"
   ]
  },
  {
   "cell_type": "code",
   "execution_count": 54,
   "metadata": {},
   "outputs": [
    {
     "data": {
      "text/plain": [
       "[-1, -1]"
      ]
     },
     "execution_count": 54,
     "metadata": {},
     "output_type": "execute_result"
    }
   ],
   "source": [
    "# Example 2:\n",
    "nums = [5,7,7,8,8,10]\n",
    "target = 6\n",
    "FindStartAndEndPositions(nums, target)"
   ]
  },
  {
   "cell_type": "code",
   "execution_count": 55,
   "metadata": {},
   "outputs": [
    {
     "data": {
      "text/plain": [
       "[-1, -1]"
      ]
     },
     "execution_count": 55,
     "metadata": {},
     "output_type": "execute_result"
    }
   ],
   "source": [
    "# Example 3:\n",
    "nums = []\n",
    "target = 0\n",
    "FindStartAndEndPositions(nums, target)"
   ]
  }
 ],
 "metadata": {
  "kernelspec": {
   "display_name": "Python 3.10.6 64-bit",
   "language": "python",
   "name": "python3"
  },
  "language_info": {
   "codemirror_mode": {
    "name": "ipython",
    "version": 3
   },
   "file_extension": ".py",
   "mimetype": "text/x-python",
   "name": "python",
   "nbconvert_exporter": "python",
   "pygments_lexer": "ipython3",
   "version": "3.10.6"
  },
  "orig_nbformat": 4,
  "vscode": {
   "interpreter": {
    "hash": "b0fa6594d8f4cbf19f97940f81e996739fb7646882a419484c72d19e05852a7e"
   }
  }
 },
 "nbformat": 4,
 "nbformat_minor": 2
}
