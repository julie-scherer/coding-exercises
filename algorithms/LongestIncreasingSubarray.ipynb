{
 "cells": [
  {
   "cell_type": "markdown",
   "metadata": {},
   "source": [
    "# Longest Continuous Increasing Subsequence"
   ]
  },
  {
   "cell_type": "markdown",
   "metadata": {},
   "source": [
    "You are given an array of integers arr, return the length of the longest continuous increasing subarray.\n",
    "A continuous increasing subarray is defined as 2 or more consecutive indices such that arr[i] < arr[i+1] .\n",
    "\n",
    "Case 1:<br>\n",
    "Input: arr = [1,3,5,4,7]<br>\n",
    "Output: 3<br>\n",
    "Explanation: The longest continuous increasing subarray is [1,3,5] with length 3.<br>\n",
    "Even though [1,3,5,7] is an increasing subarray, it is not continuous as elements 5 and 7 are separated by element\n",
    "4.<br>\n",
    "\n",
    "Case 2:<br>\n",
    "Input: arr = [2,2,2,2,2]<br>\n",
    "Output: 1<br>\n",
    "Explanation: The longest continuous increasing subarray is [2] with length 1. Note that it must be strictly\n",
    "increasing.<br>"
   ]
  },
  {
   "cell_type": "code",
   "execution_count": 1,
   "metadata": {},
   "outputs": [],
   "source": [
    "def longest_cont_subarray(arr):\n",
    "    start = 0\n",
    "    output = 0\n",
    "    if len(set(arr)) == 1:\n",
    "        return 1\n",
    "    for i in range(1, len(arr)): # O(n)\n",
    "        if arr[i-1] >= arr[i]:\n",
    "            start = i\n",
    "        if i+1-start > output:\n",
    "            output = i+1-start\n",
    "    return output"
   ]
  },
  {
   "cell_type": "code",
   "execution_count": 2,
   "metadata": {},
   "outputs": [
    {
     "data": {
      "text/plain": [
       "2"
      ]
     },
     "execution_count": 2,
     "metadata": {},
     "output_type": "execute_result"
    }
   ],
   "source": [
    "arr = [1,1,2] # 2\n",
    "longest_cont_subarray(arr)"
   ]
  },
  {
   "cell_type": "code",
   "execution_count": 3,
   "metadata": {},
   "outputs": [
    {
     "data": {
      "text/plain": [
       "3"
      ]
     },
     "execution_count": 3,
     "metadata": {},
     "output_type": "execute_result"
    }
   ],
   "source": [
    "arr = [1,3,5,4,7] # 3\n",
    "longest_cont_subarray(arr)"
   ]
  },
  {
   "cell_type": "code",
   "execution_count": 4,
   "metadata": {},
   "outputs": [
    {
     "data": {
      "text/plain": [
       "4"
      ]
     },
     "execution_count": 4,
     "metadata": {},
     "output_type": "execute_result"
    }
   ],
   "source": [
    "arr = [1,3,5,4,2,3,4,5] # 4\n",
    "longest_cont_subarray(arr)"
   ]
  },
  {
   "cell_type": "code",
   "execution_count": 5,
   "metadata": {},
   "outputs": [
    {
     "data": {
      "text/plain": [
       "4"
      ]
     },
     "execution_count": 5,
     "metadata": {},
     "output_type": "execute_result"
    }
   ],
   "source": [
    "arr = [1,3,5,7] # 4\n",
    "longest_cont_subarray(arr)"
   ]
  },
  {
   "cell_type": "code",
   "execution_count": 6,
   "metadata": {},
   "outputs": [
    {
     "data": {
      "text/plain": [
       "1"
      ]
     },
     "execution_count": 6,
     "metadata": {},
     "output_type": "execute_result"
    }
   ],
   "source": [
    "arr = [2,2,2,2,2] # 1\n",
    "longest_cont_subarray(arr)"
   ]
  }
 ],
 "metadata": {
  "kernelspec": {
   "display_name": "Python 3.10.6 64-bit",
   "language": "python",
   "name": "python3"
  },
  "language_info": {
   "codemirror_mode": {
    "name": "ipython",
    "version": 3
   },
   "file_extension": ".py",
   "mimetype": "text/x-python",
   "name": "python",
   "nbconvert_exporter": "python",
   "pygments_lexer": "ipython3",
   "version": "3.10.6"
  },
  "orig_nbformat": 4,
  "vscode": {
   "interpreter": {
    "hash": "b0fa6594d8f4cbf19f97940f81e996739fb7646882a419484c72d19e05852a7e"
   }
  }
 },
 "nbformat": 4,
 "nbformat_minor": 2
}
