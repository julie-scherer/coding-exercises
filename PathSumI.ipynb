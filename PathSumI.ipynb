{
 "cells": [
  {
   "cell_type": "markdown",
   "metadata": {},
   "source": [
    "# 112. Path Sum\n",
    "\n",
    "Given the root of a binary tree and an integer targetSum, return true if the tree has a root-to-leaf path such that adding up all the values along the path equals targetSum.\n",
    "\n",
    "A leaf is a node with no children.\n",
    "\n",
    "Example 1:<br>\n",
    "Input: root = [5,4,8,11,null,13,4,7,2,null,null,null,1], targetSum = 22<br>\n",
    "Output: true<br>\n",
    "Explanation: The root-to-leaf path with the target sum is shown.<br>\n",
    "\n",
    "Example 2:<br>\n",
    "Input: root = [1,2,3], targetSum = 5<br>\n",
    "Output: false<br>\n",
    "Explanation: There two root-to-leaf paths in the tree:<br>\n",
    "(1 --> 2): The sum is 3.<br>\n",
    "(1 --> 3): The sum is 4.<br>\n",
    "There is no root-to-leaf path with sum = 5.<br>\n",
    "\n",
    "Example 3:<br>\n",
    "Input: root = [], targetSum = 0<br>\n",
    "Output: false<br>\n",
    "Explanation: Since the tree is empty, there are no root-to-leaf paths.<br>\n",
    " \n",
    "\n",
    "Constraints:<br>\n",
    "The number of nodes in the tree is in the range [0, 5000].<br>\n",
    "-1000 <= Node.val <= 1000<br>\n",
    "-1000 <= targetSum <= 1000<br>\n",
    "\n",
    "https://leetcode.com/problems/path-sum/"
   ]
  },
  {
   "cell_type": "markdown",
   "metadata": {},
   "source": [
    "## Solution"
   ]
  },
  {
   "cell_type": "code",
   "execution_count": 240,
   "metadata": {},
   "outputs": [],
   "source": [
    "class TreeNode:\n",
    "    def __init__(self, val=0, left=None, right=None):\n",
    "        self.val = val\n",
    "        self.left = left\n",
    "        self.right = right"
   ]
  },
  {
   "cell_type": "code",
   "execution_count": 381,
   "metadata": {},
   "outputs": [],
   "source": [
    "class Solution:\n",
    "    def hasPathSum(self, root: TreeNode, targetSum: int) -> bool:\n",
    "        \n",
    "        def pathSumHelper(root, pathSum=0):\n",
    "            if not root:\n",
    "                return\n",
    "            \n",
    "            pathSum += root.val if root.val else 0 \n",
    "            # print(f\"node = {root.val} | pathSum = {pathSum} | left = {root.left.val if root.left != None else 'None'}, right = {root.right.val if root.right != None else 'None'}\")\n",
    "\n",
    "            if not root.left and not root.right:\n",
    "                return pathSum==targetSum\n",
    "            \n",
    "            return (pathSumHelper(root.left, pathSum) or pathSumHelper(root.right, pathSum))\n",
    "            \n",
    "        return pathSumHelper(root)"
   ]
  },
  {
   "cell_type": "code",
   "execution_count": 382,
   "metadata": {},
   "outputs": [],
   "source": [
    "root = [5,4,8,11,None,13,4,7,2,None,None,None,1]\n",
    "\n",
    "Root = TreeNode(root[0]) # 5\n",
    "Root.left = TreeNode(root[1]) # 4\n",
    "Root.right = TreeNode(root[2]) # 8\n",
    "Root.left.left = TreeNode(root[3]) # 11\n",
    "Root.left.right = TreeNode(root[4]) # ! None\n",
    "Root.right.left = TreeNode(root[5]) # 13\n",
    "Root.right.right = TreeNode(root[6]) # 4\n",
    "Root.left.left.left = TreeNode(root[7]) # 7\n",
    "Root.left.left.right = TreeNode(root[8]) # 2\n",
    "Root.right.left.left = TreeNode(root[9]) # ! None\n",
    "Root.right.left.right = TreeNode(root[10]) # ! None\n",
    "Root.right.right.left = TreeNode(root[11]) # ! None\n",
    "Root.right.right.right = TreeNode(root[12]) # 1"
   ]
  },
  {
   "cell_type": "code",
   "execution_count": 383,
   "metadata": {},
   "outputs": [
    {
     "data": {
      "text/plain": [
       "True"
      ]
     },
     "execution_count": 383,
     "metadata": {},
     "output_type": "execute_result"
    }
   ],
   "source": [
    "# root = [5,4,8,11,None,13,4,7,2,None,None,None,1]\n",
    "targetSum = 22\n",
    "sol = Solution()\n",
    "sol.hasPathSum(Root, targetSum)"
   ]
  },
  {
   "cell_type": "code",
   "execution_count": 384,
   "metadata": {},
   "outputs": [],
   "source": [
    "root = [1,2,3]\n",
    "\n",
    "Root = TreeNode(root[0]) # 1\n",
    "Root.left = TreeNode(root[1]) # 2\n",
    "Root.right = TreeNode(root[2]) # 3"
   ]
  },
  {
   "cell_type": "code",
   "execution_count": 227,
   "metadata": {},
   "outputs": [
    {
     "data": {
      "text/plain": [
       "False"
      ]
     },
     "execution_count": 227,
     "metadata": {},
     "output_type": "execute_result"
    }
   ],
   "source": [
    "# root = [1,2,3]\n",
    "targetSum = 5\n",
    "sol = Solution()\n",
    "sol.hasPathSum(Root, targetSum)"
   ]
  }
 ],
 "metadata": {
  "kernelspec": {
   "display_name": "Python 3.9.12 ('base')",
   "language": "python",
   "name": "python3"
  },
  "language_info": {
   "codemirror_mode": {
    "name": "ipython",
    "version": 3
   },
   "file_extension": ".py",
   "mimetype": "text/x-python",
   "name": "python",
   "nbconvert_exporter": "python",
   "pygments_lexer": "ipython3",
   "version": "3.9.12"
  },
  "orig_nbformat": 4,
  "vscode": {
   "interpreter": {
    "hash": "40d3a090f54c6569ab1632332b64b2c03c39dcf918b08424e98f38b5ae0af88f"
   }
  }
 },
 "nbformat": 4,
 "nbformat_minor": 2
}
