{
 "cells": [
  {
   "cell_type": "markdown",
   "metadata": {},
   "source": [
    "# Valid Sudoku\n",
    "\n",
    "Determine if a 9 x 9 Sudoku board is valid. Only the filled cells need to be validated according to the following rules:\n",
    "\n",
    "- Each row must contain the digits 1-9 without repetition.\n",
    "- Each column must contain the digits 1-9 without repetition.\n",
    "- Each of the nine 3 x 3 sub-boxes of the grid must contain the digits 1-9 without repetition.\n",
    "\n",
    "Note:\n",
    "- A Sudoku board (partially filled) could be valid but is not necessarily solvable.\n",
    "- Only the filled cells need to be validated according to the mentioned rules."
   ]
  },
  {
   "cell_type": "markdown",
   "metadata": {},
   "source": [
    "### final solution"
   ]
  },
  {
   "cell_type": "code",
   "execution_count": 3,
   "metadata": {},
   "outputs": [],
   "source": [
    "import collections\n",
    "class Solution:\n",
    "    def isValidSudoku(self, board: list[list[str]]) -> bool:\n",
    "        rows = collections.defaultdict(set)\n",
    "        cols = collections.defaultdict(set)\n",
    "        squares = collections.defaultdict(set)\n",
    "\n",
    "        for r in range(9):\n",
    "            for c in range(9):\n",
    "                if board[r][c] == \".\":\n",
    "                    continue\n",
    "                if (board[r][c] in rows[r] or\n",
    "                    board[r][c] in cols[r] or\n",
    "                    board[r][c] in squares[(r // 3, c // 3)]):\n",
    "                    return False\n",
    "                cols[c].add(board[r][c])\n",
    "                rows[r].add(board[r][c])\n",
    "                squares[(r // 3, c // 3)].add(board[r][c])\n",
    "        \n",
    "        return True"
   ]
  },
  {
   "cell_type": "code",
   "execution_count": 4,
   "metadata": {},
   "outputs": [],
   "source": [
    "sol = Solution()"
   ]
  },
  {
   "cell_type": "code",
   "execution_count": 5,
   "metadata": {},
   "outputs": [
    {
     "data": {
      "text/plain": [
       "True"
      ]
     },
     "execution_count": 5,
     "metadata": {},
     "output_type": "execute_result"
    }
   ],
   "source": [
    "board = \\\n",
    "[[\"5\",\"3\",\".\",\".\",\"7\",\".\",\".\",\".\",\".\"]\n",
    ",[\"6\",\".\",\".\",\"1\",\"9\",\"5\",\".\",\".\",\".\"]\n",
    ",[\".\",\"9\",\"8\",\".\",\".\",\".\",\".\",\"6\",\".\"]\n",
    ",[\"8\",\".\",\".\",\".\",\"6\",\".\",\".\",\".\",\"3\"]\n",
    ",[\"4\",\".\",\".\",\"8\",\".\",\"3\",\".\",\".\",\"1\"]\n",
    ",[\"7\",\".\",\".\",\".\",\"2\",\".\",\".\",\".\",\"6\"]\n",
    ",[\".\",\"6\",\".\",\".\",\".\",\".\",\"2\",\"8\",\".\"]\n",
    ",[\".\",\".\",\".\",\"4\",\"1\",\"9\",\".\",\".\",\"5\"]\n",
    ",[\".\",\".\",\".\",\".\",\"8\",\".\",\".\",\"7\",\"9\"]]\n",
    "\n",
    "sol.isValidSudoku(board)"
   ]
  },
  {
   "cell_type": "code",
   "execution_count": 6,
   "metadata": {},
   "outputs": [
    {
     "data": {
      "text/plain": [
       "False"
      ]
     },
     "execution_count": 6,
     "metadata": {},
     "output_type": "execute_result"
    }
   ],
   "source": [
    "board = \\\n",
    "[[\"8\",\"3\",\".\",\".\",\"7\",\".\",\".\",\".\",\".\"]\n",
    ",[\"6\",\".\",\".\",\"1\",\"9\",\"5\",\".\",\".\",\".\"]\n",
    ",[\".\",\"9\",\"8\",\".\",\".\",\".\",\".\",\"6\",\".\"]\n",
    ",[\"8\",\".\",\".\",\".\",\"6\",\".\",\".\",\".\",\"3\"]\n",
    ",[\"4\",\".\",\".\",\"8\",\".\",\"3\",\".\",\".\",\"1\"]\n",
    ",[\"7\",\".\",\".\",\".\",\"2\",\".\",\".\",\".\",\"6\"]\n",
    ",[\".\",\"6\",\".\",\".\",\".\",\".\",\"2\",\"8\",\".\"]\n",
    ",[\".\",\".\",\".\",\"4\",\"1\",\"9\",\".\",\".\",\"5\"]\n",
    ",[\".\",\".\",\".\",\".\",\"8\",\".\",\".\",\"7\",\"9\"]]\n",
    "\n",
    "sol.isValidSudoku(board)"
   ]
  },
  {
   "cell_type": "code",
   "execution_count": 7,
   "metadata": {},
   "outputs": [
    {
     "data": {
      "text/plain": [
       "False"
      ]
     },
     "execution_count": 7,
     "metadata": {},
     "output_type": "execute_result"
    }
   ],
   "source": [
    "board = \\\n",
    "[[\".\",\".\",\".\",\".\",\"5\",\".\",\".\",\"1\",\".\"],\n",
    "[\".\",\"4\",\".\",\"3\",\".\",\".\",\".\",\".\",\".\"],\n",
    "[\".\",\".\",\".\",\".\",\".\",\"3\",\".\",\".\",\"1\"],\n",
    "[\"8\",\".\",\".\",\".\",\".\",\".\",\".\",\"2\",\".\"],\n",
    "[\".\",\".\",\"2\",\".\",\"7\",\".\",\".\",\".\",\".\"],\n",
    "[\".\",\"1\",\"5\",\".\",\".\",\".\",\".\",\".\",\".\"],\n",
    "[\".\",\".\",\".\",\".\",\".\",\"2\",\".\",\".\",\".\"],\n",
    "[\".\",\"2\",\".\",\"9\",\".\",\".\",\".\",\".\",\".\"],\n",
    "[\".\",\".\",\"4\",\".\",\".\",\".\",\".\",\".\",\".\"]]\n",
    "\n",
    "sol.isValidSudoku(board)"
   ]
  },
  {
   "cell_type": "markdown",
   "metadata": {},
   "source": [
    "------"
   ]
  },
  {
   "cell_type": "markdown",
   "metadata": {},
   "source": [
    "### previous attempts"
   ]
  },
  {
   "cell_type": "code",
   "execution_count": 8,
   "metadata": {},
   "outputs": [],
   "source": [
    "class Solution:\n",
    "    def isValidSudoku(self, board: list[list[str]]) -> bool:\n",
    "        row_hash = {}\n",
    "        col_hash = {}\n",
    "        box_hash = {}\n",
    "\n",
    "        for row_idx in range(len(board)):\n",
    "            # print(f\"\\nrow index: {row_idx}\\n\")\n",
    "\n",
    "            for col_idx in range(len(board[0])):\n",
    "                # print(f\"column index: {col_idx}\")\n",
    "\n",
    "                row_val = board[row_idx][col_idx]\n",
    "                col_val = board[col_idx][row_idx]\n",
    "\n",
    "                if row_val.isalnum():\n",
    "                    # print(f\"row value = {row_val}\")\n",
    "                    if row_hash.get(row_idx):\n",
    "                        if row_val in row_hash.get(row_idx):\n",
    "                            return False\n",
    "                    row_hash[row_idx] = row_hash.get(row_idx, []) + [row_val]\n",
    "                \n",
    "                if col_val.isalnum():\n",
    "                    # print(f\"col value = {col_val}\")\n",
    "                    if col_hash.get(col_idx):\n",
    "                        if col_val in col_hash.get(col_idx):\n",
    "                            return False\n",
    "                    col_hash[row_idx] = col_hash.get(row_idx, []) + [col_val]\n",
    "                \n",
    "                    quad = (int(row_idx)//3, int(col_idx)//3)\n",
    "                    box_hash[quad] = box_hash.get(quad, []) + [col_val]\n",
    "\n",
    "        # print(f\"row hash \\n{row_hash}\")\n",
    "        # print(f\"col hash \\n{col_hash}\")\n",
    "        # print(f\"box hash \\n{box_hash}\")\n",
    "\n",
    "        return True"
   ]
  },
  {
   "cell_type": "code",
   "execution_count": 9,
   "metadata": {},
   "outputs": [],
   "source": [
    "class Solution:\n",
    "    def isValidSudoku(self, board: list[list[str]]) -> bool:\n",
    "        hashRows = {} \n",
    "        hashCols = {}\n",
    "        hashBox = {}\n",
    "        for i in range(9):\n",
    "            hashRows[i], hashCols[i] = [], []\n",
    "            for j in range(9):\n",
    "                # CHECK ROW CELL IS NUMERIC\n",
    "                if board[i][j].isnumeric():\n",
    "                    # return false if number is already in row. otherwise, add the number to the row hash table\n",
    "                    if board[i][j] in hashRows[i]:\n",
    "                        return False\n",
    "                    hashRows[i] += board[i][j]\n",
    "\n",
    "                    # add values within each box to hash table\n",
    "                    if (i >= 0 and i <= 2):\n",
    "                        if (j >= 0 and j <= 2):\n",
    "                            if board[i][j] not in hashBox.get(0,[]): hashBox[0] = hashBox.get(0,[]) + [board[i][j]] \n",
    "                            else: return False\n",
    "                        elif (j >= 3 and j <= 5):\n",
    "                            if board[i][j] not in hashBox.get(1,[]): hashBox[1] = hashBox.get(1,[]) + [board[i][j]] \n",
    "                            else: return False\n",
    "                        elif (j >= 6 and j < 9):\n",
    "                            if board[i][j] not in hashBox.get(2,[]): hashBox[2] = hashBox.get(2,[]) + [board[i][j]] \n",
    "                            else: return False\n",
    "                    elif (i >= 3 and i <= 5):\n",
    "                        if (j >= 0 and j <= 2):\n",
    "                            if board[i][j] not in hashBox.get(3,[]): hashBox[3] = hashBox.get(3,[]) + [board[i][j]] \n",
    "                            else: return False\n",
    "                        elif (j >= 3 and j <= 5):\n",
    "                            if board[i][j] not in hashBox.get(4,[]): hashBox[4] = hashBox.get(4,[]) + [board[i][j]] \n",
    "                            else: return False\n",
    "                        elif (j >= 6 and j < 9):\n",
    "                            if board[i][j] not in hashBox.get(5,[]): hashBox[5] = hashBox.get(5,[]) + [board[i][j]] \n",
    "                            else: return False\n",
    "                    elif (j >= 6 and j < 9):\n",
    "                        if (j >= 0 and j <= 2):\n",
    "                            if board[i][j] not in hashBox.get(6,[]): hashBox[6] = hashBox.get(6,[]) + [board[i][j]] \n",
    "                            else: return False\n",
    "                        elif (j >= 3 and j <= 5):\n",
    "                            if board[i][j] not in hashBox.get(7,[]): hashBox[7] = hashBox.get(7,[]) + [board[i][j]] \n",
    "                            else: return False\n",
    "                        elif (j >= 6 and j < 9):\n",
    "                            if board[i][j] not in hashBox.get(8,[]): hashBox[8] = hashBox.get(8,[]) + [board[i][j]] \n",
    "                            else: return False\n",
    "                \n",
    "                # CHECK COLUMN CELL IS NUMERIC\n",
    "                if board[j][i].isnumeric():\n",
    "                    if board[j][i] in hashCols[i]:\n",
    "                        return False\n",
    "                    hashCols[i] += board[j][i]\n",
    "\n",
    "        print(f\"Rows: {hashRows}\")\n",
    "        print(f\"Columns: {hashCols}\")\n",
    "        print(f\"Box: {hashBox}\")\n",
    "        \n",
    "        return True"
   ]
  },
  {
   "cell_type": "code",
   "execution_count": null,
   "metadata": {},
   "outputs": [],
   "source": []
  }
 ],
 "metadata": {
  "kernelspec": {
   "display_name": "Python 3.10.8 64-bit",
   "language": "python",
   "name": "python3"
  },
  "language_info": {
   "codemirror_mode": {
    "name": "ipython",
    "version": 3
   },
   "file_extension": ".py",
   "mimetype": "text/x-python",
   "name": "python",
   "nbconvert_exporter": "python",
   "pygments_lexer": "ipython3",
   "version": "3.10.8"
  },
  "orig_nbformat": 4,
  "vscode": {
   "interpreter": {
    "hash": "b0fa6594d8f4cbf19f97940f81e996739fb7646882a419484c72d19e05852a7e"
   }
  }
 },
 "nbformat": 4,
 "nbformat_minor": 2
}
