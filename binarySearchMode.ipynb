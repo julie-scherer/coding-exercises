{
 "cells": [
  {
   "cell_type": "markdown",
   "metadata": {},
   "source": [
    "### O(n) time and space complexity"
   ]
  },
  {
   "cell_type": "code",
   "execution_count": null,
   "metadata": {},
   "outputs": [],
   "source": [
    "class TreeNode:\n",
    "    def __init__(self, val=0, left=None, right=None):\n",
    "        self.val = val\n",
    "        self.left = left\n",
    "        self.right = right\n",
    "\n",
    "class Solution:\n",
    "    def findMode(self, root: TreeNode) -> list[int]:\n",
    "        # create hash map to store counts and output to store modes\n",
    "        hashMap = {}\n",
    "        output = []\n",
    "        \n",
    "        # traverse through the tree in order\n",
    "        self.inOrder(root, hashMap)\n",
    "        \n",
    "        # get the max occurance (mode) from the hash map\n",
    "        maxVal = max(hashMap.values())\n",
    "        \n",
    "        # find the keys with that mode and append to output\n",
    "        for key,value in hashMap.items():\n",
    "            if value == maxVal:\n",
    "                output += [key]\n",
    "        \n",
    "        # print(f'- - - - - - - - -\\noutput: {output}')\n",
    "        return output\n",
    "    \n",
    "    # i = 0\n",
    "    def inOrder(self, node, hashMap):\n",
    "        # self.i += 1\n",
    "        # print(f'hashMap {self.i}: {hashMap}')\n",
    "\n",
    "        # check node is not none\n",
    "        if node:\n",
    "            # incrase the count of the value by 1\n",
    "            hashMap[node.val] = hashMap.get(node.val, 0) + 1\n",
    "            \n",
    "            # search left subtree, then right subtree\n",
    "            self.inOrder(node.left, hashMap)\n",
    "            self.inOrder(node.right, hashMap)"
   ]
  },
  {
   "cell_type": "markdown",
   "metadata": {},
   "source": [
    "### O(n*log(n)) time complexity"
   ]
  },
  {
   "cell_type": "code",
   "execution_count": null,
   "metadata": {},
   "outputs": [],
   "source": [
    "class TreeNode:\n",
    "    def __init__(self, val=0, left=None, right=None):\n",
    "        self.val = val\n",
    "        self.left = left\n",
    "        self.right = right\n",
    "\n",
    "class Solution:\n",
    "    def findMode(self, root: TreeNode) -> list[int]:\n",
    "        if not root:\n",
    "            return\n",
    "        \n",
    "        modes =  []\n",
    "        node = root\n",
    "        hashMap = {}\n",
    "        maxVal = float('-inf')\n",
    "        output = []        \n",
    "        \n",
    "        while node or modes:\n",
    "            while node:\n",
    "                modes.append(node)\n",
    "                node = node.left\n",
    "            node = modes.pop()\n",
    "            hashMap[node.val] = hashMap.get(node.val, 0) + 1\n",
    "            maxVal = max(hashMap[node.val], maxVal)\n",
    "            node = node.right\n",
    "        \n",
    "        for key,value in hashMap.items():\n",
    "            if value == maxVal:\n",
    "                output.append(key)\n",
    "        \n",
    "        return output"
   ]
  },
  {
   "cell_type": "markdown",
   "metadata": {},
   "source": [
    "### O(1) space complexity"
   ]
  },
  {
   "cell_type": "code",
   "execution_count": null,
   "metadata": {},
   "outputs": [],
   "source": [
    "class TreeNode:\n",
    "    def __init__(self, val=0, left=None, right=None):\n",
    "        self.val = val\n",
    "        self.left = left\n",
    "        self.right = right\n",
    "\n",
    "class Solution:\n",
    "    def findMode(self, root: TreeNode) -> list[int]:\n",
    "        if not root:\n",
    "            return\n",
    "        \n",
    "        def inOrder(currNode, prevNode, cnt, maxVal, modes):\n",
    "            if not currNode:\n",
    "                return prevNode, cnt, maxVal\n",
    "            \n",
    "            # traverse left branch\n",
    "            prevNode, cnt, maxVal = inOrder(currNode.left, prevNode, cnt, maxVal, modes)\n",
    "            \n",
    "            # update count\n",
    "            if prevNode:\n",
    "                if currNode.val == prevNode.val: cnt += 1\n",
    "                else: cnt = 1\n",
    "            \n",
    "            # update modes\n",
    "            if cnt > maxVal:\n",
    "                modes.clear()\n",
    "                modes.append(currNode.val)\n",
    "                maxVal = cnt\n",
    "            elif cnt == maxVal:\n",
    "                modes.append(currNode.val)\n",
    "            \n",
    "            # traverse right branch w/ updated previous node\n",
    "            return inOrder(currNode.right, currNode, cnt, maxVal, modes)\n",
    "\n",
    "        modes = []\n",
    "        inOrder(root, None, 1, 0, modes)\n",
    "        return modes"
   ]
  }
 ],
 "metadata": {
  "language_info": {
   "name": "python"
  },
  "orig_nbformat": 4
 },
 "nbformat": 4,
 "nbformat_minor": 2
}
