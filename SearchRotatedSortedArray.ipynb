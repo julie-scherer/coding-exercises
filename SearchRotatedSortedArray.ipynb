{
 "cells": [
  {
   "cell_type": "markdown",
   "metadata": {},
   "source": [
    "## 33. Search in Rotated Sorted Array\n",
    "\n",
    ">There is an integer array nums sorted in ascending order (with distinct values).\n",
    ">\n",
    ">Prior to being passed to your function, nums is possibly rotated at an unknown pivot index k (1 <= k < nums.length) such that the resulting array is [nums[k], nums[k+1], ..., nums[n-1], nums[0], nums[1], ..., nums[k-1]] (0-indexed). For example, [0,1,2,4,5,6,7] might be rotated at pivot index 3 and become [4,5,6,7,0,1,2].\n",
    ">\n",
    ">Given the array nums after the possible rotation and an integer target, return the index of target if it is in nums, or -1 if it is not in nums.\n",
    ">\n",
    ">You must write an algorithm with O(log n) runtime complexity.\n",
    ">\n",
    "> \n",
    ">\n",
    ">Example 1:\n",
    ">\n",
    ">Input: nums = [4,5,6,7,0,1,2], target = 0\n",
    ">Output: 4\n",
    ">\n",
    ">Example 2:\n",
    ">\n",
    ">Input: nums = [4,5,6,7,0,1,2], target = 3\n",
    ">Output: -1\n",
    ">\n",
    ">Example 3:\n",
    ">\n",
    ">Input: nums = [1], target = 0\n",
    ">Output: -1\n",
    ">\n",
    ">\n",
    "\n",
    "https://leetcode.com/problems/search-in-rotated-sorted-array/"
   ]
  },
  {
   "cell_type": "code",
   "execution_count": 1,
   "metadata": {},
   "outputs": [],
   "source": [
    "class Solution:\n",
    "    \n",
    "    def binarySearch(self, lo, hi, condition):\n",
    "        while lo <= hi:\n",
    "            mid = (lo+hi)//2\n",
    "            res = condition(mid)\n",
    "            if res == 'found':\n",
    "                return mid\n",
    "            elif res == 'right':\n",
    "                lo = mid+1\n",
    "            elif res == 'left':\n",
    "                hi = mid-1\n",
    "        return -1\n",
    "    \n",
    "    \n",
    "    def findStartIndex(self, nums: list[int], target: int) -> int:\n",
    "        def condition(mid):\n",
    "            if nums[mid] < nums[mid-1]:\n",
    "                return 'found'\n",
    "            elif nums[mid] < nums[-1]:\n",
    "                return 'left'\n",
    "            else:\n",
    "                return 'right'\n",
    "        return self.binarySearch(0, len(nums)-1, condition)\n",
    "\n",
    "\n",
    "    def search(self, nums: list[int], target: int) -> int:\n",
    "        if len(nums) <= 1:\n",
    "            if target == nums[0]:\n",
    "                return 0\n",
    "            return -1        \n",
    "        \n",
    "        start = self.findStartIndex(nums, target)\n",
    "        left = nums[:start]\n",
    "        right = nums[start:]\n",
    "        if left and target >= left[0] and target <= left[-1]:\n",
    "            lo = 0\n",
    "            hi = start\n",
    "        elif right and target >= right[0] and target <= right[-1]:\n",
    "            lo = start\n",
    "            hi = len(nums)-1\n",
    "\n",
    "        def condition(mid):\n",
    "            if nums[mid] == target:\n",
    "                return 'found'\n",
    "            elif nums[mid] < target:\n",
    "                return 'right'\n",
    "            else:\n",
    "                return 'left'\n",
    "\n",
    "        try:\n",
    "            return self.binarySearch(lo, hi, condition)\n",
    "        except:\n",
    "            return -1"
   ]
  },
  {
   "cell_type": "code",
   "execution_count": 2,
   "metadata": {},
   "outputs": [],
   "source": [
    "ans = Solution()"
   ]
  },
  {
   "cell_type": "code",
   "execution_count": 3,
   "metadata": {},
   "outputs": [
    {
     "data": {
      "text/plain": [
       "4"
      ]
     },
     "execution_count": 3,
     "metadata": {},
     "output_type": "execute_result"
    }
   ],
   "source": [
    "nums, target = [4,5,6,7,0,1,2], 0\n",
    "ans.search(nums, target)\n",
    "# Output: 4"
   ]
  },
  {
   "cell_type": "code",
   "execution_count": 4,
   "metadata": {},
   "outputs": [
    {
     "data": {
      "text/plain": [
       "-1"
      ]
     },
     "execution_count": 4,
     "metadata": {},
     "output_type": "execute_result"
    }
   ],
   "source": [
    "nums, target = [4,5,6,7,0,1,2], 3\n",
    "ans.search(nums, target)\n",
    "# Output: -1"
   ]
  },
  {
   "cell_type": "code",
   "execution_count": 5,
   "metadata": {},
   "outputs": [
    {
     "data": {
      "text/plain": [
       "-1"
      ]
     },
     "execution_count": 5,
     "metadata": {},
     "output_type": "execute_result"
    }
   ],
   "source": [
    "nums, target = [1], 0\n",
    "ans.search(nums, target)\n",
    "# Output: -1"
   ]
  },
  {
   "cell_type": "markdown",
   "metadata": {},
   "source": [
    "Runtime: 50 ms, faster than 83.88% of Python3 online submissions for Search in Rotated Sorted Array.\n",
    "\n",
    "Memory Usage: 14.4 MB, less than 17.92% of Python3 online submissions for Search in Rotated Sorted Array."
   ]
  }
 ],
 "metadata": {
  "kernelspec": {
   "display_name": "Python 3.10.6 64-bit",
   "language": "python",
   "name": "python3"
  },
  "language_info": {
   "codemirror_mode": {
    "name": "ipython",
    "version": 3
   },
   "file_extension": ".py",
   "mimetype": "text/x-python",
   "name": "python",
   "nbconvert_exporter": "python",
   "pygments_lexer": "ipython3",
   "version": "3.10.6"
  },
  "orig_nbformat": 4,
  "vscode": {
   "interpreter": {
    "hash": "b0fa6594d8f4cbf19f97940f81e996739fb7646882a419484c72d19e05852a7e"
   }
  }
 },
 "nbformat": 4,
 "nbformat_minor": 2
}
