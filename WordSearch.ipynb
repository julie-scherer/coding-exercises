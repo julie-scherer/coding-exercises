{
 "cells": [
  {
   "cell_type": "markdown",
   "metadata": {},
   "source": [
    "Word Search\n",
    "https://leetcode.com/problems/word-search/\n",
    "\n",
    "Given an m x n grid of characters board and a string word, \n",
    "return true if word exists in the grid.\n",
    "\n",
    "The word can be constructed from letters of sequentially adjacent cells, \n",
    "where adjacent cells are horizontally or vertically neighboring. \n",
    "The same letter cell may not be used more than once."
   ]
  },
  {
   "cell_type": "code",
   "execution_count": 2,
   "metadata": {},
   "outputs": [],
   "source": [
    "class Solution:\n",
    "    def exist(self, board: list[list[str]], word: str) -> bool:\n",
    "\n",
    "        coord_dict = {}\n",
    "        for word_char in word: \n",
    "            coord_dict[word_char] = set()\n",
    "        for y in range(0,len(board)): \n",
    "            for x in range(0,len(board[0])):\n",
    "                char = board[y][x]\n",
    "                if char in word: \n",
    "                    char_vals = coord_dict[char] \n",
    "                    char_vals.add((x,y))\n",
    "                    coord_dict[char] = char_vals\n",
    "\n",
    "        i = 0\n",
    "        out = word[0]\n",
    "        while i < len(word)-1: \n",
    "            coords = coord_dict.get(word[i])\n",
    "            next_coords = coord_dict.get(word[i+1])\n",
    "            if coords == None or next_coords == None:\n",
    "                break \n",
    "            for coord in coords:                \n",
    "                up1 = (coord[0],coord[1]-1)\n",
    "                down1 = (coord[0],coord[1]+1)\n",
    "                right1 = (coord[0]+1,coord[1])\n",
    "                left1 = (coord[0]-1,coord[1])\n",
    "\n",
    "                if (up1 in next_coords) or (down1 in next_coords) or (right1 in next_coords) or (left1 in next_coords):\n",
    "                    coord_dict[word[i]] = coords.remove(coord)\n",
    "                    out += word[i+1]\n",
    "                    break\n",
    "            i += 1\n",
    "\n",
    "        if out == word:\n",
    "            return 'true'\n",
    "            \n",
    "        return 'false'"
   ]
  },
  {
   "cell_type": "code",
   "execution_count": 3,
   "metadata": {},
   "outputs": [
    {
     "name": "stdout",
     "output_type": "stream",
     "text": [
      "false\n"
     ]
    }
   ],
   "source": [
    "sol = Solution()\n",
    "board = [\n",
    "    [\"A\",\"B\",\"C\",\"E\"],\n",
    "    [\"S\",\"F\",\"C\",\"S\"],\n",
    "    [\"A\",\"D\",\"E\",\"E\"]\n",
    "]\n",
    "word = \"ABCB\"\n",
    "print(sol.exist(board, word))"
   ]
  }
 ],
 "metadata": {
  "kernelspec": {
   "display_name": "Python 3.10.6 64-bit",
   "language": "python",
   "name": "python3"
  },
  "language_info": {
   "codemirror_mode": {
    "name": "ipython",
    "version": 3
   },
   "file_extension": ".py",
   "mimetype": "text/x-python",
   "name": "python",
   "nbconvert_exporter": "python",
   "pygments_lexer": "ipython3",
   "version": "3.10.6"
  },
  "orig_nbformat": 4,
  "vscode": {
   "interpreter": {
    "hash": "b0fa6594d8f4cbf19f97940f81e996739fb7646882a419484c72d19e05852a7e"
   }
  }
 },
 "nbformat": 4,
 "nbformat_minor": 2
}
