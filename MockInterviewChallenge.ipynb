{
 "cells": [
  {
   "cell_type": "markdown",
   "metadata": {},
   "source": [
    "# Problem\n",
    "\n",
    "Given two ordered lists of the same length and a limit, return an ordered list of the n smallest elements from the lists where n equals the limit.\n",
    "\n",
    "Example:<br>\n",
    "list_a = [1, 3, 5]<br>\n",
    "list_b = [0, 6, 8]<br>\n",
    "limit = 4<br>\n",
    "Answer = [0, 1, 3, 5]<br>\n",
    "\n",
    "list_a = [1]<br>\n",
    "list_b = [7]<br>\n",
    "limit = 8<br>\n",
    "Answer = [1, 7]<br>"
   ]
  },
  {
   "cell_type": "code",
   "execution_count": 19,
   "metadata": {},
   "outputs": [],
   "source": [
    "# input: 2 ordered lists, a limit\n",
    "# output: ordered list of smallest numbers with lenth of the limit"
   ]
  },
  {
   "cell_type": "code",
   "execution_count": 23,
   "metadata": {},
   "outputs": [],
   "source": [
    "# BRUTE FORCE SOLUTION -> O(n*logn)\n",
    "def OrderedListOfNSmallestElements(list_a: list[int], list_b: list[int], limit: int) -> list[int]:\n",
    "    # combine lists\n",
    "    # combined list is sorted\n",
    "    # index the elements from 0:limit\n",
    "    return sorted(list_a + list_b)[0:limit]"
   ]
  },
  {
   "cell_type": "code",
   "execution_count": 24,
   "metadata": {},
   "outputs": [
    {
     "data": {
      "text/plain": [
       "[0, 1, 3, 5]"
      ]
     },
     "execution_count": 24,
     "metadata": {},
     "output_type": "execute_result"
    }
   ],
   "source": [
    "list_a = [1, 3, 5]\n",
    "list_b = [0, 6, 8]\n",
    "limit = 4\n",
    "OrderedListOfNSmallestElements(list_a, list_b, limit) # Answer = [0, 1, 3, 5]"
   ]
  },
  {
   "cell_type": "code",
   "execution_count": 25,
   "metadata": {},
   "outputs": [],
   "source": [
    "# ALTERNATIVE SOLUTION -> O(n)\n",
    "def OrderedListOfNSmallestElements(list_a: list[int], list_b: list[int], limit: int) -> list[int]:\n",
    "    # loop through list a\n",
    "    # set pointer1 at index 0 in list a\n",
    "    # pointer2 at index 0 in list b\n",
    "    \n",
    "    # list_a = [1,1,3]\n",
    "    # list_b = [2,6,8]\n",
    "\n",
    "    a, b = 0, 0\n",
    "    out = []\n",
    "    while a < len(list_a):\n",
    "        # i1. list_a[0]=1, list_b[0]=2\n",
    "        # i2. list_a[1]=1, list_b[0]=2\n",
    "        # i3. list_a[2]=3, list_b[0]=2\n",
    "        # i4. list_a[2]=3, list_b[1]=6\n",
    "        if list_a[a] < list_b[b]:   # i1. 1<2       ; i2. 1<2           ; i4. 3<6\n",
    "            out.append(list_a[a])   # i1. out=[1]   ; i2. out=[1,1]     ; i4. out=[1,1,2,3]\n",
    "            a += 1                  # i1. a=1,b=0   ; i2. a=2,b=0       ; #! i4. a=3,b=1\n",
    "        elif list_a[a] == list_b[b]:\n",
    "            out.append(list_a[a], list_b[b])\n",
    "            a += 1\n",
    "            b += 1\n",
    "        # list_a > list_b\n",
    "        else:                       # i3. 3>2\n",
    "            out.append(list_b[b])   # i3. out=[1,1,2]\n",
    "            b += 1                  # i3. a=2,b=1\n",
    "    \n",
    "    return out"
   ]
  },
  {
   "cell_type": "code",
   "execution_count": 26,
   "metadata": {},
   "outputs": [
    {
     "data": {
      "text/plain": [
       "[0, 1, 3, 5]"
      ]
     },
     "execution_count": 26,
     "metadata": {},
     "output_type": "execute_result"
    }
   ],
   "source": [
    "list_a = [1, 3, 5]\n",
    "list_b = [0, 6, 8]\n",
    "limit = 4\n",
    "OrderedListOfNSmallestElements(list_a, list_b, limit) # Answer = [0, 1, 3, 5]"
   ]
  },
  {
   "cell_type": "code",
   "execution_count": 27,
   "metadata": {},
   "outputs": [],
   "source": [
    "# CONSIDERING EDGE CASES\n",
    "def OrderedListOfNSmallestElements(list_a: list[int], list_b: list[int], limit: int) -> list[int]:\n",
    "    if len(list_a) == 1 and len(list_b) == 1:\n",
    "        if list_a[0] <= list_b[0]:\n",
    "            return [list_a[0], list_b[0]]\n",
    "        return [list_b[0], list_a[0]]\n",
    "    \n",
    "    a, b = 0, 0\n",
    "    out = []\n",
    "    while (len(out) < limit) or (a != len(list_a)-1 and b != len(list_b)-1):\n",
    "        print(f\"out = {out}\")\n",
    "        if list_a[a] < list_b[b]:\n",
    "            out.append(list_a[a])\n",
    "            if a < len(list_a)-1: a += 1\n",
    "        elif list_a[a] == list_b[b]:\n",
    "            out.append(list_a[a], list_b[b])\n",
    "            if a < len(list_a)-1: a += 1\n",
    "            if b < len(list_b)-1: b += 1\n",
    "        else: # list_a > list_b\n",
    "            out.append(list_b[b])\n",
    "            if b < len(list_b)-1: b += 1\n",
    "    return out"
   ]
  },
  {
   "cell_type": "code",
   "execution_count": 28,
   "metadata": {},
   "outputs": [
    {
     "name": "stdout",
     "output_type": "stream",
     "text": [
      "out = []\n",
      "out = [0]\n",
      "out = [0, 1]\n",
      "out = [0, 1, 3]\n"
     ]
    },
    {
     "data": {
      "text/plain": [
       "[0, 1, 3, 5]"
      ]
     },
     "execution_count": 28,
     "metadata": {},
     "output_type": "execute_result"
    }
   ],
   "source": [
    "list_a = [1, 3, 5]\n",
    "list_b = [0, 6, 8]\n",
    "limit = 4\n",
    "OrderedListOfNSmallestElements(list_a, list_b, limit) # Answer = [0, 1, 3, 5]"
   ]
  },
  {
   "cell_type": "code",
   "execution_count": 29,
   "metadata": {},
   "outputs": [
    {
     "data": {
      "text/plain": [
       "[1, 7]"
      ]
     },
     "execution_count": 29,
     "metadata": {},
     "output_type": "execute_result"
    }
   ],
   "source": [
    "list_a = [1]\n",
    "list_b = [7]\n",
    "limit = 8\n",
    "OrderedListOfNSmallestElements(list_a, list_b, limit) # Answer = [1, 7]"
   ]
  }
 ],
 "metadata": {
  "kernelspec": {
   "display_name": "Python 3.10.8 64-bit",
   "language": "python",
   "name": "python3"
  },
  "language_info": {
   "codemirror_mode": {
    "name": "ipython",
    "version": 3
   },
   "file_extension": ".py",
   "mimetype": "text/x-python",
   "name": "python",
   "nbconvert_exporter": "python",
   "pygments_lexer": "ipython3",
   "version": "3.10.8"
  },
  "orig_nbformat": 4,
  "vscode": {
   "interpreter": {
    "hash": "b0fa6594d8f4cbf19f97940f81e996739fb7646882a419484c72d19e05852a7e"
   }
  }
 },
 "nbformat": 4,
 "nbformat_minor": 2
}
